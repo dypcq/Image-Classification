{
 "cells": [
  {
   "cell_type": "code",
   "execution_count": null,
   "metadata": {},
   "outputs": [],
   "source": [
    "import tensorflow as tf\n",
    "print(tf.test.gpu_device_name())\n",
    "# See https://www.tensorflow.org/tutorials/using_gpu#allowing_gpu_memory_growth\n",
    "config = tf.ConfigProto()\n",
    "config.gpu_options.allow_growth = True"
   ]
  },
  {
   "cell_type": "code",
   "execution_count": 2,
   "metadata": {
    "scrolled": true
   },
   "outputs": [
    {
     "name": "stderr",
     "output_type": "stream",
     "text": [
      "Using TensorFlow backend.\n"
     ]
    }
   ],
   "source": [
    "import os\n",
    "import pandas as pd\n",
    "\n",
    "import numpy as np\n",
    "from glob import glob\n",
    "import cv2\n",
    "import skimage\n",
    "from skimage.transform import resize\n",
    "\n",
    "from keras import layers\n",
    "from keras import models\n",
    "from keras import optimizers\n",
    "from keras.models import load_model\n",
    "import keras.callbacks as kcall\n",
    "from keras.optimizers import Adam\n",
    "from keras.models import Model\n",
    "from keras.models import Sequential\n",
    "from keras.layers import Flatten, Dense, Activation, Dropout, Conv2D, MaxPooling2D, BatchNormalization\n",
    "from keras.applications.xception import Xception, preprocess_input\n",
    "from keras.preprocessing.image import ImageDataGenerator\n",
    "from keras.callbacks import ModelCheckpoint\n",
    "import matplotlib.pyplot as plt\n",
    "\n",
    "%matplotlib inline"
   ]
  },
  {
   "cell_type": "code",
   "execution_count": 3,
   "metadata": {},
   "outputs": [],
   "source": [
    "train_dir = 'data/train'\n",
    "validation_dir = 'data/validation'"
   ]
  },
  {
   "cell_type": "code",
   "execution_count": 4,
   "metadata": {},
   "outputs": [
    {
     "name": "stdout",
     "output_type": "stream",
     "text": [
      "data/train 0\n",
      "data/train\\AKIEC 3856\n",
      "data/train\\BCC 4773\n",
      "data/train\\BKL 3275\n",
      "data/train\\DF 4152\n",
      "data/train\\MEL 3308\n",
      "data/train\\NV 4975\n",
      "data/train\\VASC 3488\n"
     ]
    }
   ],
   "source": [
    "for root,dirs,files in os.walk(train_dir):\n",
    "    print (root, len(files))"
   ]
  },
  {
   "cell_type": "code",
   "execution_count": 5,
   "metadata": {},
   "outputs": [
    {
     "name": "stdout",
     "output_type": "stream",
     "text": [
      "data/validation 0\n",
      "data/validation\\AKIEC 1552\n",
      "data/validation\\BCC 1692\n",
      "data/validation\\BKL 1479\n",
      "data/validation\\DF 1632\n",
      "data/validation\\MEL 1664\n",
      "data/validation\\NV 1730\n",
      "data/validation\\VASC 1484\n"
     ]
    }
   ],
   "source": [
    "for root,dirs,files in os.walk(validation_dir):\n",
    "    print (root, len(files))"
   ]
  },
  {
   "cell_type": "code",
   "execution_count": 6,
   "metadata": {},
   "outputs": [
    {
     "name": "stdout",
     "output_type": "stream",
     "text": [
      "Found 27827 images belonging to 7 classes.\n",
      "Found 11233 images belonging to 7 classes.\n"
     ]
    }
   ],
   "source": [
    "from keras.preprocessing.image import ImageDataGenerator\n",
    "\n",
    "# this is the augmentation configuration we will use for training\n",
    "train_datagen = ImageDataGenerator(\n",
    "    rescale=1. / 255,\n",
    "    featurewise_center=True,\n",
    "    featurewise_std_normalization=True)\n",
    "\n",
    "\n",
    "# target_size = (height, width)\n",
    "target_size = (225, 300)\n",
    "\n",
    "\n",
    "train_generator = train_datagen.flow_from_directory(\n",
    "        train_dir,\n",
    "        target_size = target_size,       \n",
    "        class_mode = 'categorical',\n",
    "        shuffle = True)\n",
    "\n",
    "validation_generator = train_datagen.flow_from_directory(\n",
    "        validation_dir,\n",
    "        target_size = target_size,        \n",
    "        class_mode = 'categorical',\n",
    "        shuffle = True)"
   ]
  },
  {
   "cell_type": "code",
   "execution_count": 7,
   "metadata": {},
   "outputs": [],
   "source": [
    "## Intilizing variables\n",
    "output_classes = 7\n",
    "\n",
    "batch_size = 32 \n",
    "epochs = 50\n",
    "droput_rate= 0.5\n",
    "\n",
    "\n",
    "adam_opt = Adam(lr=1e-5, beta_1=0.9, beta_2=0.999, epsilon=1e-08, decay=1e-5)\n",
    "\n",
    "xception_weights = 'pretrained-models/xception_weights_tf_dim_ordering_tf_kernels_notop.h5'"
   ]
  },
  {
   "cell_type": "code",
   "execution_count": 8,
   "metadata": {},
   "outputs": [],
   "source": [
    "model = Sequential()\n",
    "\n",
    "model.add(Xception(weights = xception_weights , include_top=False,pooling = 'avg'))\n",
    "model.add(Dropout(rate=droput_rate))\n",
    "model.add(Dense(units=output_classes, activation='softmax'))\n",
    "\n",
    "model.layers[0].trainable = True\n",
    "\n",
    "model.compile(loss='categorical_crossentropy',\n",
    "              optimizer=adam_opt,\n",
    "              metrics=['accuracy'])"
   ]
  },
  {
   "cell_type": "code",
   "execution_count": 9,
   "metadata": {},
   "outputs": [
    {
     "name": "stdout",
     "output_type": "stream",
     "text": [
      "Epoch 1/50\n"
     ]
    },
    {
     "name": "stderr",
     "output_type": "stream",
     "text": [
      "c:\\users\\reza-lab\\appdata\\local\\programs\\python\\python35\\lib\\site-packages\\keras_preprocessing\\image.py:1131: UserWarning: This ImageDataGenerator specifies `featurewise_center`, but it hasn't been fit on any training data. Fit it first by calling `.fit(numpy_data)`.\n",
      "  warnings.warn('This ImageDataGenerator specifies '\n",
      "c:\\users\\reza-lab\\appdata\\local\\programs\\python\\python35\\lib\\site-packages\\keras_preprocessing\\image.py:1139: UserWarning: This ImageDataGenerator specifies `featurewise_std_normalization`, but it hasn't been fit on any training data. Fit it first by calling `.fit(numpy_data)`.\n",
      "  warnings.warn('This ImageDataGenerator specifies '\n"
     ]
    },
    {
     "name": "stdout",
     "output_type": "stream",
     "text": [
      "2048/2048 [==============================] - 1247s 609ms/step - loss: 0.8035 - acc: 0.7252 - val_loss: 0.4866 - val_acc: 0.8336\n",
      "Epoch 2/50\n",
      "2048/2048 [==============================] - 1226s 599ms/step - loss: 0.1786 - acc: 0.9446 - val_loss: 0.3417 - val_acc: 0.8766\n",
      "Epoch 3/50\n",
      "2048/2048 [==============================] - 1228s 599ms/step - loss: 0.0551 - acc: 0.9854 - val_loss: 0.3219 - val_acc: 0.8852\n",
      "Epoch 4/50\n",
      "2048/2048 [==============================] - 1228s 599ms/step - loss: 0.0193 - acc: 0.9959 - val_loss: 0.3270 - val_acc: 0.8854\n",
      "Epoch 5/50\n",
      "2048/2048 [==============================] - 1226s 598ms/step - loss: 0.0095 - acc: 0.9982 - val_loss: 0.3290 - val_acc: 0.8895\n",
      "Epoch 6/50\n",
      "2048/2048 [==============================] - 1225s 598ms/step - loss: 0.0062 - acc: 0.9987 - val_loss: 0.3657 - val_acc: 0.8895\n",
      "Epoch 7/50\n",
      "2048/2048 [==============================] - 1228s 600ms/step - loss: 0.0041 - acc: 0.9992 - val_loss: 0.3651 - val_acc: 0.8914\n",
      "Epoch 8/50\n",
      "2048/2048 [==============================] - 1225s 598ms/step - loss: 0.0035 - acc: 0.9992 - val_loss: 0.3534 - val_acc: 0.8936\n",
      "Epoch 9/50\n",
      "2048/2048 [==============================] - 1225s 598ms/step - loss: 0.0026 - acc: 0.9995 - val_loss: 0.3721 - val_acc: 0.8959\n",
      "Epoch 10/50\n",
      "2048/2048 [==============================] - 1226s 599ms/step - loss: 0.0030 - acc: 0.9993 - val_loss: 0.3743 - val_acc: 0.8949\n",
      "Epoch 11/50\n",
      "2048/2048 [==============================] - 1227s 599ms/step - loss: 0.0022 - acc: 0.9995 - val_loss: 0.3675 - val_acc: 0.8950\n",
      "Epoch 12/50\n",
      "2048/2048 [==============================] - 1221s 596ms/step - loss: 0.0019 - acc: 0.9996 - val_loss: 0.3670 - val_acc: 0.8951\n",
      "Epoch 13/50\n",
      "2048/2048 [==============================] - 1226s 598ms/step - loss: 0.0015 - acc: 0.9996 - val_loss: 0.4048 - val_acc: 0.8939\n",
      "Epoch 14/50\n",
      "2048/2048 [==============================] - 1225s 598ms/step - loss: 0.0013 - acc: 0.9997 - val_loss: 0.4099 - val_acc: 0.8959\n",
      "Epoch 15/50\n",
      "2048/2048 [==============================] - 1226s 599ms/step - loss: 0.0014 - acc: 0.9997 - val_loss: 0.3606 - val_acc: 0.9020\n",
      "Epoch 16/50\n",
      "2048/2048 [==============================] - 1227s 599ms/step - loss: 9.1259e-04 - acc: 0.9999 - val_loss: 0.4170 - val_acc: 0.8957\n",
      "Epoch 17/50\n",
      "2048/2048 [==============================] - 1226s 599ms/step - loss: 0.0013 - acc: 0.9997 - val_loss: 0.3708 - val_acc: 0.9030\n",
      "Epoch 18/50\n",
      "2048/2048 [==============================] - 1226s 599ms/step - loss: 9.6064e-04 - acc: 0.9998 - val_loss: 0.4093 - val_acc: 0.8975\n",
      "Epoch 19/50\n",
      "2048/2048 [==============================] - 1226s 598ms/step - loss: 8.2657e-04 - acc: 0.9998 - val_loss: 0.4126 - val_acc: 0.9000\n",
      "Epoch 20/50\n",
      "2048/2048 [==============================] - 1224s 598ms/step - loss: 9.6112e-04 - acc: 0.9997 - val_loss: 0.4334 - val_acc: 0.8970\n",
      "Epoch 21/50\n",
      "2048/2048 [==============================] - 1226s 599ms/step - loss: 4.7200e-04 - acc: 0.9999 - val_loss: 0.4293 - val_acc: 0.9003\n",
      "Epoch 22/50\n",
      "2048/2048 [==============================] - 1226s 599ms/step - loss: 6.9862e-04 - acc: 0.9998 - val_loss: 0.4503 - val_acc: 0.8977\n",
      "Epoch 23/50\n",
      "2048/2048 [==============================] - 1226s 599ms/step - loss: 8.2017e-04 - acc: 0.9998 - val_loss: 0.4494 - val_acc: 0.9015\n",
      "Epoch 24/50\n",
      "2048/2048 [==============================] - 1227s 599ms/step - loss: 6.8280e-04 - acc: 0.9998 - val_loss: 0.4125 - val_acc: 0.9062\n",
      "Epoch 25/50\n",
      "2048/2048 [==============================] - 1225s 598ms/step - loss: 5.0898e-04 - acc: 0.9999 - val_loss: 0.4265 - val_acc: 0.9009\n",
      "Epoch 26/50\n",
      "2048/2048 [==============================] - 1224s 598ms/step - loss: 6.1137e-04 - acc: 0.9998 - val_loss: 0.4274 - val_acc: 0.9050\n",
      "Epoch 27/50\n",
      "2048/2048 [==============================] - 1225s 598ms/step - loss: 6.3450e-04 - acc: 0.9999 - val_loss: 0.4364 - val_acc: 0.9046\n",
      "Epoch 28/50\n",
      "2048/2048 [==============================] - 1225s 598ms/step - loss: 3.9511e-04 - acc: 0.9999 - val_loss: 0.4315 - val_acc: 0.9022\n",
      "Epoch 29/50\n",
      "2048/2048 [==============================] - 1225s 598ms/step - loss: 3.2445e-04 - acc: 0.9999 - val_loss: 0.4567 - val_acc: 0.9015\n",
      "Epoch 30/50\n",
      "2048/2048 [==============================] - 1225s 598ms/step - loss: 3.1365e-04 - acc: 1.0000 - val_loss: 0.4381 - val_acc: 0.9062\n",
      "Epoch 31/50\n",
      "2048/2048 [==============================] - 1224s 598ms/step - loss: 4.6822e-04 - acc: 0.9999 - val_loss: 0.4864 - val_acc: 0.9010\n",
      "Epoch 32/50\n",
      "2048/2048 [==============================] - 1224s 598ms/step - loss: 3.6013e-04 - acc: 0.9999 - val_loss: 0.4441 - val_acc: 0.9024\n",
      "Epoch 33/50\n",
      "2048/2048 [==============================] - 1225s 598ms/step - loss: 4.1742e-04 - acc: 0.9999 - val_loss: 0.4609 - val_acc: 0.9028\n",
      "Epoch 34/50\n",
      "2048/2048 [==============================] - 1225s 598ms/step - loss: 2.5017e-04 - acc: 1.0000 - val_loss: 0.4544 - val_acc: 0.9011\n",
      "Epoch 35/50\n",
      "2048/2048 [==============================] - 1225s 598ms/step - loss: 2.4937e-04 - acc: 0.9999 - val_loss: 0.4588 - val_acc: 0.9023\n",
      "Epoch 36/50\n",
      "2048/2048 [==============================] - 1225s 598ms/step - loss: 3.0788e-04 - acc: 0.9999 - val_loss: 0.4495 - val_acc: 0.9089\n",
      "Epoch 37/50\n",
      "2048/2048 [==============================] - 1224s 598ms/step - loss: 1.8652e-04 - acc: 1.0000 - val_loss: 0.4876 - val_acc: 0.9010\n",
      "Epoch 38/50\n",
      "2048/2048 [==============================] - 1224s 598ms/step - loss: 2.3754e-04 - acc: 1.0000 - val_loss: 0.5018 - val_acc: 0.9045\n",
      "Epoch 39/50\n",
      "2048/2048 [==============================] - 1224s 598ms/step - loss: 2.6322e-04 - acc: 0.9999 - val_loss: 0.4161 - val_acc: 0.9092\n",
      "Epoch 40/50\n",
      "2048/2048 [==============================] - 1224s 598ms/step - loss: 2.7408e-04 - acc: 0.9999 - val_loss: 0.4459 - val_acc: 0.9049\n",
      "Epoch 41/50\n",
      "2048/2048 [==============================] - 1225s 598ms/step - loss: 1.6776e-04 - acc: 1.0000 - val_loss: 0.4514 - val_acc: 0.9035\n",
      "Epoch 42/50\n",
      "2048/2048 [==============================] - 1225s 598ms/step - loss: 2.3773e-04 - acc: 0.9999 - val_loss: 0.4646 - val_acc: 0.9077\n",
      "Epoch 43/50\n",
      "2048/2048 [==============================] - 1224s 598ms/step - loss: 3.6003e-04 - acc: 0.9999 - val_loss: 0.4722 - val_acc: 0.9011\n",
      "Epoch 44/50\n",
      "2048/2048 [==============================] - 1225s 598ms/step - loss: 3.2652e-04 - acc: 0.9999 - val_loss: 0.4481 - val_acc: 0.9064\n",
      "Epoch 45/50\n",
      "2048/2048 [==============================] - 1225s 598ms/step - loss: 2.6419e-04 - acc: 0.9999 - val_loss: 0.4383 - val_acc: 0.9037\n",
      "Epoch 46/50\n",
      "2048/2048 [==============================] - 1225s 598ms/step - loss: 2.0193e-04 - acc: 1.0000 - val_loss: 0.4225 - val_acc: 0.9070\n",
      "Epoch 47/50\n",
      "2048/2048 [==============================] - 1225s 598ms/step - loss: 1.6924e-04 - acc: 1.0000 - val_loss: 0.4522 - val_acc: 0.9062\n",
      "Epoch 48/50\n",
      "2048/2048 [==============================] - 1227s 599ms/step - loss: 2.2332e-04 - acc: 0.9999 - val_loss: 0.4733 - val_acc: 0.9034\n",
      "Epoch 49/50\n",
      "2048/2048 [==============================] - 1230s 600ms/step - loss: 1.9915e-04 - acc: 0.9999 - val_loss: 0.4631 - val_acc: 0.9067\n",
      "Epoch 50/50\n",
      "2048/2048 [==============================] - 1225s 598ms/step - loss: 2.2887e-04 - acc: 0.9999 - val_loss: 0.4521 - val_acc: 0.9088\n"
     ]
    }
   ],
   "source": [
    "history = model.fit_generator(train_generator,\n",
    "    steps_per_epoch=2048,\n",
    "    epochs = epochs,\n",
    "    validation_data = validation_generator,\n",
    "    validation_steps=1024)"
   ]
  },
  {
   "cell_type": "code",
   "execution_count": 10,
   "metadata": {},
   "outputs": [
    {
     "name": "stdout",
     "output_type": "stream",
     "text": [
      "Test Score:  0.4533282817527652\n",
      "Test Accuracy:  0.9025\n"
     ]
    }
   ],
   "source": [
    "score = model.evaluate_generator(validation_generator, steps=50)\n",
    "\n",
    "print ('Test Score: ', score[0])\n",
    "print ('Test Accuracy: ',score[1])"
   ]
  },
  {
   "cell_type": "code",
   "execution_count": 11,
   "metadata": {},
   "outputs": [
    {
     "data": {
      "image/png": "[encoded data removed]",
      "text/plain": [
       "<Figure size 432x288 with 1 Axes>"
      ]
     },
     "metadata": {
      "needs_background": "light"
     },
     "output_type": "display_data"
    },
    {
     "data": {
      "image/png": "[encoded data removed]",
      "text/plain": [
       "<Figure size 432x288 with 1 Axes>"
      ]
     },
     "metadata": {
      "needs_background": "light"
     },
     "output_type": "display_data"
    }
   ],
   "source": [
    "import matplotlib.pyplot as plt\n",
    "\n",
    "plt.plot(history.history['acc'])\n",
    "plt.plot(history.history['val_acc'])\n",
    "plt.title('model accuracy')\n",
    "plt.ylabel('accuracy')\n",
    "plt.xlabel('epoch')\n",
    "plt.legend(['train', 'test'], loc='upper left')\n",
    "plt.show()\n",
    "# summarize history for loss\n",
    "plt.plot(history.history['loss'])\n",
    "plt.plot(history.history['val_loss'])\n",
    "plt.title('model loss')\n",
    "plt.ylabel('loss')\n",
    "plt.xlabel('epoch')\n",
    "plt.legend(['train', 'test'], loc='upper left')\n",
    "plt.show()"
   ]
  },
  {
   "cell_type": "code",
   "execution_count": 12,
   "metadata": {},
   "outputs": [],
   "source": [
    "filename = validation_generator.filenames\n",
    "truth = validation_generator.classes\n",
    "label = validation_generator.class_indices\n",
    "indexlabel = dict((value, key) for key, value in label.items())"
   ]
  },
  {
   "cell_type": "code",
   "execution_count": 13,
   "metadata": {},
   "outputs": [
    {
     "name": "stdout",
     "output_type": "stream",
     "text": [
      "352/351 [==============================] - 43s 123ms/step\n",
      "No of errors = 9687/11233\n"
     ]
    }
   ],
   "source": [
    "predicts = model.predict_generator(validation_generator, steps=validation_generator.samples/validation_generator.batch_size, verbose=1)\n",
    "predict_class = np.argmax(predicts, axis=1)\n",
    "errors = np.where(predict_class != truth)[0]\n",
    "print(\"No of errors = {}/{}\".format(len(errors),validation_generator.samples))"
   ]
  },
  {
   "cell_type": "code",
   "execution_count": null,
   "metadata": {},
   "outputs": [],
   "source": []
  },
  {
   "cell_type": "code",
   "execution_count": 14,
   "metadata": {},
   "outputs": [
    {
     "name": "stdout",
     "output_type": "stream",
     "text": [
      "Confusion matrix\n",
      "[[186 210 229 224 247 278 178]\n",
      " [230 261 251 221 260 303 166]\n",
      " [179 222 197 217 240 267 157]\n",
      " [206 228 251 196 278 287 186]\n",
      " [221 247 215 234 255 312 180]\n",
      " [241 289 226 234 254 319 167]\n",
      " [180 233 215 195 239 290 132]]\n"
     ]
    },
    {
     "data": {
      "image/png": "[encoded data removed]",
      "text/plain": [
       "<Figure size 720x720 with 2 Axes>"
      ]
     },
     "metadata": {
      "needs_background": "light"
     },
     "output_type": "display_data"
    }
   ],
   "source": [
    "from sklearn.metrics import confusion_matrix\n",
    "cm = confusion_matrix(truth,predict_class)\n",
    "\n",
    "labels = []\n",
    "for k,v in indexlabel.items():\n",
    "    labels.append(v)\n",
    "    \n",
    "import itertools\n",
    "def plot_confusion_matrix(cm, classes,\n",
    "                          normalize=False,\n",
    "                          title='Confusion matrix',\n",
    "                          cmap=plt.cm.Blues):\n",
    "\n",
    "    if normalize:\n",
    "        cm = cm.astype('float') / cm.sum(axis=1)[:, np.newaxis]\n",
    "        print(\"Normalized confusion matrix\")\n",
    "    else:\n",
    "        print('Confusion matrix')\n",
    "\n",
    "    print(cm)\n",
    "\n",
    "    plt.imshow(cm, interpolation='nearest', cmap=cmap)\n",
    "    plt.title(title)\n",
    "    plt.colorbar()\n",
    "    tick_marks = np.arange(len(classes))\n",
    "    plt.xticks(tick_marks, classes, rotation=45)\n",
    "    plt.yticks(tick_marks, classes)\n",
    "\n",
    "    fmt = '.2f' if normalize else 'd'\n",
    "    thresh = cm.max() / 2.\n",
    "    for i, j in itertools.product(range(cm.shape[0]), range(cm.shape[1])):\n",
    "        plt.text(j, i, format(cm[i, j], fmt),\n",
    "                 horizontalalignment=\"center\",\n",
    "                 color=\"white\" if cm[i, j] > thresh else \"black\")\n",
    "\n",
    "    plt.tight_layout()\n",
    "    plt.ylabel('True label')\n",
    "    plt.xlabel('Predicted label')\n",
    "    \n",
    "\n",
    "plt.figure(figsize=(10,10))\n",
    "plot_confusion_matrix(cm, classes=labels,\n",
    "                      title='Confusion matrix')"
   ]
  },
  {
   "cell_type": "code",
   "execution_count": 15,
   "metadata": {},
   "outputs": [],
   "source": [
    "from sklearn.metrics import accuracy_score, roc_auc_score, classification_report\n",
    "\n",
    "#and reports metrics with classification_report method\n",
    "def predict_and_report(gen, model):\n",
    "    y_true = []\n",
    "    y_pred = []\n",
    "    gen.reset()\n",
    "    for img, label in gen:\n",
    "        #get true labels for batch and store them\n",
    "        y_true.extend([int(z[1]) for z in label])\n",
    "        #Get predictions as probabilities\n",
    "        batch_pred = model.predict_on_batch(img)\n",
    "        #turn probabilities to class labels and store\n",
    "        batch_pred = np.argmax(batch_pred, axis=1)\n",
    "        y_pred.extend(batch_pred)\n",
    "        #break loop\n",
    "        if gen.batch_index == 0:\n",
    "            break\n",
    "            \n",
    "    print('Accuracy:', accuracy_score(y_true, y_pred))\n",
    "    print('Area Under the Receiver Operating Characteristic Curve:', roc_auc_score(y_true, y_pred)) #Area under the curve\n",
    "    print(classification_report(y_true, y_pred))"
   ]
  },
  {
   "cell_type": "code",
   "execution_count": 16,
   "metadata": {},
   "outputs": [
    {
     "name": "stderr",
     "output_type": "stream",
     "text": [
      "c:\\users\\reza-lab\\appdata\\local\\programs\\python\\python35\\lib\\site-packages\\keras_preprocessing\\image.py:1131: UserWarning: This ImageDataGenerator specifies `featurewise_center`, but it hasn't been fit on any training data. Fit it first by calling `.fit(numpy_data)`.\n",
      "  warnings.warn('This ImageDataGenerator specifies '\n",
      "c:\\users\\reza-lab\\appdata\\local\\programs\\python\\python35\\lib\\site-packages\\keras_preprocessing\\image.py:1139: UserWarning: This ImageDataGenerator specifies `featurewise_std_normalization`, but it hasn't been fit on any training data. Fit it first by calling `.fit(numpy_data)`.\n",
      "  warnings.warn('This ImageDataGenerator specifies '\n"
     ]
    },
    {
     "name": "stdout",
     "output_type": "stream",
     "text": [
      "Accuracy: 0.3100945125238078\n",
      "Area Under the Receiver Operating Characteristic Curve: 0.1672594777478963\n",
      "              precision    recall  f1-score   support\n",
      "\n",
      "           0       1.00      0.17      0.29     23054\n",
      "           1       1.00      1.00      1.00      4773\n",
      "           2       0.00      0.00      0.00         0\n",
      "           3       0.00      0.00      0.00         0\n",
      "           4       0.00      0.00      0.00         0\n",
      "           5       0.00      0.00      0.00         0\n",
      "           6       0.00      0.00      0.00         0\n",
      "\n",
      "   micro avg       0.31      0.31      0.31     27827\n",
      "   macro avg       0.29      0.17      0.18     27827\n",
      "weighted avg       1.00      0.31      0.41     27827\n",
      "\n"
     ]
    },
    {
     "name": "stderr",
     "output_type": "stream",
     "text": [
      "c:\\users\\reza-lab\\appdata\\local\\programs\\python\\python35\\lib\\site-packages\\sklearn\\metrics\\classification.py:1145: UndefinedMetricWarning: Recall and F-score are ill-defined and being set to 0.0 in labels with no true samples.\n",
      "  'recall', 'true', average, warn_for)\n"
     ]
    }
   ],
   "source": [
    "predict_and_report(train_generator, model)"
   ]
  },
  {
   "cell_type": "code",
   "execution_count": 17,
   "metadata": {},
   "outputs": [
    {
     "name": "stdout",
     "output_type": "stream",
     "text": [
      "Accuracy: 0.2713433633045491\n",
      "Area Under the Receiver Operating Characteristic Curve: 0.16740882883699887\n",
      "              precision    recall  f1-score   support\n",
      "\n",
      "           0       0.99      0.15      0.26      9541\n",
      "           1       0.95      0.95      0.95      1692\n",
      "           2       0.00      0.00      0.00         0\n",
      "           3       0.00      0.00      0.00         0\n",
      "           4       0.00      0.00      0.00         0\n",
      "           5       0.00      0.00      0.00         0\n",
      "           6       0.00      0.00      0.00         0\n",
      "\n",
      "   micro avg       0.27      0.27      0.27     11233\n",
      "   macro avg       0.28      0.16      0.17     11233\n",
      "weighted avg       0.98      0.27      0.37     11233\n",
      "\n"
     ]
    }
   ],
   "source": [
    "predict_and_report(validation_generator, model)"
   ]
  },
  {
   "cell_type": "code",
   "execution_count": 18,
   "metadata": {},
   "outputs": [],
   "source": [
    "model.save('models/2.Xception-Adam-without-Dropout-Model.h5')\n",
    "model.save_weights('models/2.Xception-Adam-without-Dropout-Weights.h5')"
   ]
  },
  {
   "cell_type": "code",
   "execution_count": 19,
   "metadata": {},
   "outputs": [],
   "source": [
    "##########################################################################################################"
   ]
  },
  {
   "cell_type": "code",
   "execution_count": null,
   "metadata": {},
   "outputs": [],
   "source": [
    "fnames = validation_generator.filenames\n",
    "\n",
    "# Get the ground truth from generator\n",
    "ground_truth = validation_generator.classes\n",
    "\n",
    "# Get the label to class mapping from the generator\n",
    "label2index = validation_generator.class_indices\n",
    "\n",
    "# Getting the mapping from class index to class label\n",
    "idx2label = dict((v,k) for k,v in label2index.items())\n",
    "\n",
    "# Get the predictions from the model using the generator\n",
    "predictions = model.predict_generator(validation_generator, steps=validation_generator.samples/validation_generator.batch_size,verbose=1)\n",
    "predicted_classes = np.argmax(predictions,axis=1)\n",
    "#print (predictions)\n",
    "\n",
    "errors = np.where(predicted_classes != ground_truth)[0]\n",
    "print(\"No of errors = {}/{}\".format(len(errors),validation_generator.samples))\n",
    "\n"
   ]
  },
  {
   "cell_type": "code",
   "execution_count": null,
   "metadata": {},
   "outputs": [],
   "source": [
    "print(str(len(errors)/validation_generator.samples)) + \"%\")"
   ]
  },
  {
   "cell_type": "markdown",
   "metadata": {},
   "source": [
    "# Misclassified Images"
   ]
  },
  {
   "cell_type": "code",
   "execution_count": null,
   "metadata": {},
   "outputs": [],
   "source": [
    "from keras.preprocessing.image import ImageDataGenerator, load_img\n",
    "# Show the errors\n",
    "for i in range(len(errors)):\n",
    "    pred_class = np.argmax(predictions[errors[i]])\n",
    "    pred_label = idx2label[pred_class]\n",
    "    \n",
    "    title = 'Original label:{}, Prediction :{}, confidence : {:.3f}, class ID : {}'.format(\n",
    "        fnames[errors[i]].split('/')[0],\n",
    "        pred_label,\n",
    "        predictions[errors[i]][pred_class], pred_class)\n",
    "    \n",
    "    original = load_img('{}/{}'.format(validation_dir,fnames[errors[i]]))\n",
    "    plt.figure(figsize=[7,7])\n",
    "    plt.axis('off')\n",
    "    plt.title(title)\n",
    "    plt.imshow(original)\n",
    "plt.show()"
   ]
  },
  {
   "cell_type": "code",
   "execution_count": null,
   "metadata": {},
   "outputs": [],
   "source": []
  },
  {
   "cell_type": "code",
   "execution_count": null,
   "metadata": {},
   "outputs": [],
   "source": []
  },
  {
   "cell_type": "code",
   "execution_count": null,
   "metadata": {},
   "outputs": [],
   "source": []
  },
  {
   "cell_type": "code",
   "execution_count": null,
   "metadata": {},
   "outputs": [],
   "source": []
  },
  {
   "cell_type": "code",
   "execution_count": null,
   "metadata": {},
   "outputs": [],
   "source": []
  },
  {
   "cell_type": "code",
   "execution_count": null,
   "metadata": {},
   "outputs": [],
   "source": []
  },
  {
   "cell_type": "code",
   "execution_count": null,
   "metadata": {},
   "outputs": [],
   "source": []
  }
 ],
 "metadata": {
  "anaconda-cloud": {},
  "kernelspec": {
   "display_name": "Python 3",
   "language": "python",
   "name": "python3"
  },
  "language_info": {
   "codemirror_mode": {
    "name": "ipython",
    "version": 3
   },
   "file_extension": ".py",
   "mimetype": "text/x-python",
   "name": "python",
   "nbconvert_exporter": "python",
   "pygments_lexer": "ipython3",
   "version": "3.5.2"
  }
 },
 "nbformat": 4,
 "nbformat_minor": 2
}
