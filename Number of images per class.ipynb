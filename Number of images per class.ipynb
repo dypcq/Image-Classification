{
 "cells": [
  {
   "cell_type": "markdown",
   "metadata": {},
   "source": [
    "### Codes source from: \n",
    "##### https://www.kaggle.com/gaborvecsei/plant-seedlings-fun-with-computer-vision"
   ]
  },
  {
   "cell_type": "code",
   "execution_count": 4,
   "metadata": {},
   "outputs": [],
   "source": [
    "import os\n",
    "import pandas as pd\n",
    "\n",
    "import numpy as np\n",
    "from glob import glob\n",
    "import cv2\n",
    "\n",
    "%matplotlib inline"
   ]
  },
  {
   "cell_type": "code",
   "execution_count": 5,
   "metadata": {},
   "outputs": [],
   "source": [
    "base_dir = \"data\"\n",
    "train_dir = os.path.join(base_dir, \"train\")"
   ]
  },
  {
   "cell_type": "markdown",
   "metadata": {},
   "source": [
    "### Read images\n",
    "\n",
    "First, I'll just read all the images. The images are in BGR (Blue/Green/Red) format because OpenCV uses this."
   ]
  },
  {
   "cell_type": "code",
   "execution_count": 6,
   "metadata": {},
   "outputs": [],
   "source": [
    "images_per_class = {}\n",
    "for class_folder_name in os.listdir(train_dir):\n",
    "    class_folder_path = os.path.join(train_dir, class_folder_name)\n",
    "    class_label = class_folder_name\n",
    "    images_per_class[class_label] = []\n",
    "    for image_path in glob(os.path.join(class_folder_path, \"*.png\")):\n",
    "        image_bgr = cv2.imread(image_path, cv2.IMREAD_COLOR)\n",
    "        images_per_class[class_label].append(image_bgr)"
   ]
  },
  {
   "cell_type": "code",
   "execution_count": 7,
   "metadata": {},
   "outputs": [
    {
     "name": "stdout",
     "output_type": "stream",
     "text": [
      "Small-flowered Cranesbill -> 496\n",
      "Black-grass -> 263\n",
      "Scentless Mayweed -> 516\n",
      "Maize -> 221\n",
      "Loose Silky-bent -> 654\n",
      "Shepherds Purse -> 231\n",
      "Charlock -> 390\n",
      "Fat Hen -> 475\n",
      "Cleavers -> 287\n",
      "Common wheat -> 221\n",
      "Common Chickweed -> 611\n",
      "Sugar beet -> 385\n"
     ]
    }
   ],
   "source": [
    "for key,value in images_per_class.items():\n",
    "    print(\"{0} -> {1}\".format(key, len(value)))"
   ]
  }
 ],
 "metadata": {
  "kernelspec": {
   "display_name": "Python 3",
   "language": "python",
   "name": "python3"
  },
  "language_info": {
   "codemirror_mode": {
    "name": "ipython",
    "version": 3
   },
   "file_extension": ".py",
   "mimetype": "text/x-python",
   "name": "python",
   "nbconvert_exporter": "python",
   "pygments_lexer": "ipython3",
   "version": "3.6.4"
  }
 },
 "nbformat": 4,
 "nbformat_minor": 2
}
