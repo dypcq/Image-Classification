{
 "cells": [
  {
   "cell_type": "code",
   "execution_count": 10,
   "metadata": {
    "scrolled": true
   },
   "outputs": [
    {
     "data": {
      "text/plain": [
       "'2.1.5'"
      ]
     },
     "execution_count": 10,
     "metadata": {},
     "output_type": "execute_result"
    }
   ],
   "source": [
    "import keras\n",
    "keras.__version__"
   ]
  },
  {
   "cell_type": "markdown",
   "metadata": {},
   "source": [
    "### Data Preparation"
   ]
  },
  {
   "cell_type": "code",
   "execution_count": 11,
   "metadata": {},
   "outputs": [
    {
     "ename": "FileExistsError",
     "evalue": "[Errno 17] File exists: 'base'",
     "output_type": "error",
     "traceback": [
      "\u001b[0;31m---------------------------------------------------------------------------\u001b[0m",
      "\u001b[0;31mFileExistsError\u001b[0m                           Traceback (most recent call last)",
      "\u001b[0;32m<ipython-input-11-9bd2a5999af3>\u001b[0m in \u001b[0;36m<module>\u001b[0;34m()\u001b[0m\n\u001b[1;32m      5\u001b[0m \u001b[0morigin_test_dir\u001b[0m \u001b[0;34m=\u001b[0m \u001b[0;34m'test'\u001b[0m\u001b[0;34m\u001b[0m\u001b[0m\n\u001b[1;32m      6\u001b[0m \u001b[0mbase_dir\u001b[0m \u001b[0;34m=\u001b[0m \u001b[0;34m'base'\u001b[0m\u001b[0;34m\u001b[0m\u001b[0m\n\u001b[0;32m----> 7\u001b[0;31m \u001b[0mos\u001b[0m\u001b[0;34m.\u001b[0m\u001b[0mmkdir\u001b[0m\u001b[0;34m(\u001b[0m\u001b[0mbase_dir\u001b[0m\u001b[0;34m)\u001b[0m\u001b[0;34m\u001b[0m\u001b[0m\n\u001b[0m\u001b[1;32m      8\u001b[0m \u001b[0;34m\u001b[0m\u001b[0m\n\u001b[1;32m      9\u001b[0m \u001b[0mtrain_dir\u001b[0m \u001b[0;34m=\u001b[0m \u001b[0mos\u001b[0m\u001b[0;34m.\u001b[0m\u001b[0mpath\u001b[0m\u001b[0;34m.\u001b[0m\u001b[0mjoin\u001b[0m\u001b[0;34m(\u001b[0m\u001b[0mbase_dir\u001b[0m\u001b[0;34m,\u001b[0m \u001b[0;34m'train_dir'\u001b[0m\u001b[0;34m)\u001b[0m\u001b[0;34m\u001b[0m\u001b[0m\n",
      "\u001b[0;31mFileExistsError\u001b[0m: [Errno 17] File exists: 'base'"
     ]
    }
   ],
   "source": [
    "import os, shutil\n",
    "\n",
    "# defined directories of training set, validation set and test set\n",
    "origin_train_dir = 'train'\n",
    "origin_test_dir = 'test'\n",
    "base_dir = 'base'\n",
    "os.mkdir(base_dir)\n",
    "\n",
    "train_dir = os.path.join(base_dir, 'train_dir')\n",
    "os.mkdir(train_dir)\n",
    "\n",
    "validation_dir = os.path.join(base_dir, 'validation_dir')\n",
    "os.mkdir(validation_dir)\n",
    "\n",
    "test_dir = os.path.join(base_dir, 'test_dir')\n",
    "os.mkdir(test_dir)\n",
    "\n",
    "# defined more specific directory with dog or cat pictures\n",
    "train_cats_dir = os.path.join(train_dir, 'cats')\n",
    "os.mkdir(train_cats_dir)\n",
    "\n",
    "train_dogs_dir = os.path.join(train_dir, 'dogs')\n",
    "os.mkdir(train_dogs_dir)\n",
    "\n",
    "validation_cats_dir = os.path.join(validation_dir, 'cats')\n",
    "os.mkdir(validation_cats_dir)\n",
    "\n",
    "validation_dogs_dir = os.path.join(validation_dir, 'dogs')\n",
    "os.mkdir(validation_dogs_dir)\n",
    "\n",
    "# -------------------------------------------------\n",
    "test_image_dir = os.path.join(test_dir, 'test')\n",
    "os.mkdir(test_image_dir)\n",
    "\n",
    "# Copy images to the above defined directories\n",
    "filenames = ['cat.{}.jpg'.format(i) for i in range(10000)]\n",
    "for filename in filenames:\n",
    "    src = os.path.join(origin_train_dir, filename)\n",
    "    dst = os.path.join(train_cats_dir, filename)\n",
    "    shutil.copyfile(src, dst)\n",
    "    \n",
    "filenames = ['dog.{}.jpg'.format(i) for i in range(10000)]\n",
    "for filename in filenames:\n",
    "    src = os.path.join(origin_train_dir, filename)\n",
    "    dst = os.path.join(train_dogs_dir, filename)\n",
    "    shutil.copyfile(src, dst)\n",
    "    \n",
    "filenames = ['cat.{}.jpg'.format(i) for i in range(10000, 12500)]\n",
    "for filename in filenames:\n",
    "    src = os.path.join(origin_train_dir, filename)\n",
    "    dst = os.path.join(validation_cats_dir, filename)\n",
    "    shutil.copyfile(src, dst)\n",
    "    \n",
    "filenames = ['dog.{}.jpg'.format(i) for i in range(10000, 12500)]\n",
    "for filename in filenames:\n",
    "    src = os.path.join(origin_train_dir, filename)\n",
    "    dst = os.path.join(validation_dogs_dir, filename)\n",
    "    shutil.copyfile(src, dst)\n",
    "\n",
    "filenames = ['{}.jpg'.format(i) for i in range(1,12501)]\n",
    "for filename in filenames:\n",
    "    src = os.path.join(origin_test_dir, filename)\n",
    "    dst = os.path.join(test_image_dir, filename)\n",
    "    shutil.copyfile(src, dst)"
   ]
  },
  {
   "cell_type": "code",
   "execution_count": 13,
   "metadata": {},
   "outputs": [
    {
     "name": "stdout",
     "output_type": "stream",
     "text": [
      "total training cat images: 10000\n",
      "total training dog images: 10000\n",
      "total validation cat images: 2500\n",
      "total validation dog images: 2500\n",
      "total test images: 12500\n"
     ]
    }
   ],
   "source": [
    "# Sanity check\n",
    "print('total training cat images:', len(os.listdir(train_cats_dir)))\n",
    "print('total training dog images:', len(os.listdir(train_dogs_dir)))\n",
    "print('total validation cat images:', len(os.listdir(validation_cats_dir)))\n",
    "print('total validation dog images:', len(os.listdir(validation_dogs_dir)))\n",
    "print('total test images:', len(os.listdir(test_image_dir)))"
   ]
  },
  {
   "cell_type": "markdown",
   "metadata": {},
   "source": [
    "### CNN Model\n",
    "Design a basic model to guess result."
   ]
  },
  {
   "cell_type": "code",
   "execution_count": 14,
   "metadata": {},
   "outputs": [],
   "source": [
    "from keras import layers\n",
    "from keras import models\n",
    "\n",
    "model = models.Sequential()\n",
    "model.add(layers.Conv2D(32, (3, 3), activation='relu',\n",
    "                        input_shape=(150, 150, 3)))\n",
    "model.add(layers.MaxPooling2D((2, 2)))\n",
    "model.add(layers.Conv2D(64, (3, 3), activation='relu'))\n",
    "model.add(layers.MaxPooling2D((2, 2)))\n",
    "model.add(layers.Conv2D(128, (3, 3), activation='relu'))\n",
    "model.add(layers.MaxPooling2D((2, 2)))\n",
    "model.add(layers.Conv2D(128, (3, 3), activation='relu'))\n",
    "model.add(layers.MaxPooling2D((2, 2)))\n",
    "model.add(layers.Flatten())\n",
    "model.add(layers.Dense(512, activation='relu'))\n",
    "model.add(layers.Dense(1, activation='sigmoid'))"
   ]
  },
  {
   "cell_type": "code",
   "execution_count": 15,
   "metadata": {},
   "outputs": [
    {
     "name": "stdout",
     "output_type": "stream",
     "text": [
      "_________________________________________________________________\n",
      "Layer (type)                 Output Shape              Param #   \n",
      "=================================================================\n",
      "conv2d_5 (Conv2D)            (None, 148, 148, 32)      896       \n",
      "_________________________________________________________________\n",
      "max_pooling2d_5 (MaxPooling2 (None, 74, 74, 32)        0         \n",
      "_________________________________________________________________\n",
      "conv2d_6 (Conv2D)            (None, 72, 72, 64)        18496     \n",
      "_________________________________________________________________\n",
      "max_pooling2d_6 (MaxPooling2 (None, 36, 36, 64)        0         \n",
      "_________________________________________________________________\n",
      "conv2d_7 (Conv2D)            (None, 34, 34, 128)       73856     \n",
      "_________________________________________________________________\n",
      "max_pooling2d_7 (MaxPooling2 (None, 17, 17, 128)       0         \n",
      "_________________________________________________________________\n",
      "conv2d_8 (Conv2D)            (None, 15, 15, 128)       147584    \n",
      "_________________________________________________________________\n",
      "max_pooling2d_8 (MaxPooling2 (None, 7, 7, 128)         0         \n",
      "_________________________________________________________________\n",
      "flatten_2 (Flatten)          (None, 6272)              0         \n",
      "_________________________________________________________________\n",
      "dense_3 (Dense)              (None, 512)               3211776   \n",
      "_________________________________________________________________\n",
      "dense_4 (Dense)              (None, 1)                 513       \n",
      "=================================================================\n",
      "Total params: 3,453,121\n",
      "Trainable params: 3,453,121\n",
      "Non-trainable params: 0\n",
      "_________________________________________________________________\n"
     ]
    }
   ],
   "source": [
    "model.summary()"
   ]
  },
  {
   "cell_type": "code",
   "execution_count": 16,
   "metadata": {},
   "outputs": [],
   "source": [
    "from keras import optimizers\n",
    "\n",
    "model.compile(loss='binary_crossentropy',\n",
    "              optimizer=optimizers.RMSprop(lr=1e-4),\n",
    "              metrics=['acc'])"
   ]
  },
  {
   "cell_type": "code",
   "execution_count": 18,
   "metadata": {},
   "outputs": [
    {
     "name": "stdout",
     "output_type": "stream",
     "text": [
      "Found 20000 images belonging to 2 classes.\n",
      "Found 5000 images belonging to 2 classes.\n"
     ]
    }
   ],
   "source": [
    "from keras.preprocessing.image import ImageDataGenerator\n",
    "\n",
    "# All images will be rescaled by 1./255\n",
    "train_datagen = ImageDataGenerator(rescale=1./255)\n",
    "test_datagen = ImageDataGenerator(rescale=1./255)\n",
    "\n",
    "train_generator = train_datagen.flow_from_directory(\n",
    "        # This is the target directory\n",
    "        train_dir,\n",
    "        # All images will be resized to 150x150\n",
    "        target_size=(150, 150),\n",
    "        batch_size=50,\n",
    "        # Since we use binary_crossentropy loss, we need binary labels\n",
    "        class_mode='binary')\n",
    "\n",
    "validation_generator = test_datagen.flow_from_directory(\n",
    "        validation_dir,\n",
    "        target_size=(150, 150),\n",
    "        batch_size=50,\n",
    "        class_mode='binary')"
   ]
  },
  {
   "cell_type": "code",
   "execution_count": 19,
   "metadata": {},
   "outputs": [],
   "source": [
    "from keras.callbacks import ModelCheckpoint\n",
    "checkpointer = ModelCheckpoint(filepath='saved_models/cats_and_dogs_small_1.h5', \n",
    "                               verbose=1, save_best_only=True)\n"
   ]
  },
  {
   "cell_type": "code",
   "execution_count": 20,
   "metadata": {
    "scrolled": true
   },
   "outputs": [
    {
     "name": "stdout",
     "output_type": "stream",
     "text": [
      "Epoch 1/30\n",
      "400/400 [==============================] - 533s 1s/step - loss: 0.6312 - acc: 0.6365 - val_loss: 0.5480 - val_acc: 0.7300\n",
      "Epoch 2/30\n",
      "400/400 [==============================] - 530s 1s/step - loss: 0.5323 - acc: 0.7311 - val_loss: 0.4872 - val_acc: 0.7692\n",
      "Epoch 3/30\n",
      "400/400 [==============================] - 529s 1s/step - loss: 0.4783 - acc: 0.7698 - val_loss: 0.4704 - val_acc: 0.7728\n",
      "Epoch 4/30\n",
      "400/400 [==============================] - 540s 1s/step - loss: 0.4384 - acc: 0.7940 - val_loss: 0.4305 - val_acc: 0.8034\n",
      "Epoch 5/30\n",
      "400/400 [==============================] - 541s 1s/step - loss: 0.4084 - acc: 0.8155 - val_loss: 0.4609 - val_acc: 0.7802\n",
      "Epoch 6/30\n",
      "400/400 [==============================] - 534s 1s/step - loss: 0.3839 - acc: 0.8274 - val_loss: 0.3995 - val_acc: 0.8246\n",
      "Epoch 7/30\n",
      "400/400 [==============================] - 534s 1s/step - loss: 0.3626 - acc: 0.8404 - val_loss: 0.3696 - val_acc: 0.8346\n",
      "Epoch 8/30\n",
      "400/400 [==============================] - 534s 1s/step - loss: 0.3365 - acc: 0.8536 - val_loss: 0.3927 - val_acc: 0.8218\n",
      "Epoch 9/30\n",
      "400/400 [==============================] - 533s 1s/step - loss: 0.3163 - acc: 0.8628 - val_loss: 0.4149 - val_acc: 0.8228\n",
      "Epoch 10/30\n",
      "400/400 [==============================] - 533s 1s/step - loss: 0.2974 - acc: 0.8721 - val_loss: 0.3463 - val_acc: 0.8478\n",
      "Epoch 11/30\n",
      "400/400 [==============================] - 530s 1s/step - loss: 0.2772 - acc: 0.8828 - val_loss: 0.3434 - val_acc: 0.8520\n",
      "Epoch 12/30\n",
      "400/400 [==============================] - 530s 1s/step - loss: 0.2599 - acc: 0.8879 - val_loss: 0.3489 - val_acc: 0.8438\n",
      "Epoch 13/30\n",
      "400/400 [==============================] - 554s 1s/step - loss: 0.2383 - acc: 0.9013 - val_loss: 0.3652 - val_acc: 0.8394\n",
      "Epoch 14/30\n",
      "400/400 [==============================] - 633s 2s/step - loss: 0.2184 - acc: 0.9097 - val_loss: 0.3409 - val_acc: 0.8558\n",
      "Epoch 15/30\n",
      "400/400 [==============================] - 600s 2s/step - loss: 0.1976 - acc: 0.9207 - val_loss: 0.3595 - val_acc: 0.8538\n",
      "Epoch 16/30\n",
      "400/400 [==============================] - 621s 2s/step - loss: 0.1818 - acc: 0.9253 - val_loss: 0.4337 - val_acc: 0.8262\n",
      "Epoch 17/30\n",
      "400/400 [==============================] - 598s 1s/step - loss: 0.1607 - acc: 0.9364 - val_loss: 0.3878 - val_acc: 0.8432\n",
      "Epoch 18/30\n",
      "400/400 [==============================] - 626s 2s/step - loss: 0.1452 - acc: 0.9447 - val_loss: 0.3667 - val_acc: 0.8558\n",
      "Epoch 19/30\n",
      "400/400 [==============================] - 622s 2s/step - loss: 0.1282 - acc: 0.9517 - val_loss: 0.3877 - val_acc: 0.8538\n",
      "Epoch 20/30\n",
      "400/400 [==============================] - 617s 2s/step - loss: 0.1130 - acc: 0.9562 - val_loss: 0.4237 - val_acc: 0.8536\n",
      "Epoch 21/30\n",
      "400/400 [==============================] - 579s 1s/step - loss: 0.0974 - acc: 0.9628 - val_loss: 0.4660 - val_acc: 0.8508\n",
      "Epoch 22/30\n",
      "400/400 [==============================] - 625s 2s/step - loss: 0.0838 - acc: 0.9697 - val_loss: 0.4678 - val_acc: 0.8492\n",
      "Epoch 23/30\n",
      "400/400 [==============================] - 655s 2s/step - loss: 0.0751 - acc: 0.9725 - val_loss: 0.4388 - val_acc: 0.8534\n",
      "Epoch 24/30\n",
      "400/400 [==============================] - 624s 2s/step - loss: 0.0621 - acc: 0.9783 - val_loss: 0.5114 - val_acc: 0.8468\n",
      "Epoch 25/30\n",
      "400/400 [==============================] - 632s 2s/step - loss: 0.0542 - acc: 0.9815 - val_loss: 0.5251 - val_acc: 0.8550\n",
      "Epoch 26/30\n",
      "400/400 [==============================] - 615s 2s/step - loss: 0.0471 - acc: 0.9838 - val_loss: 0.5043 - val_acc: 0.8578\n",
      "Epoch 27/30\n",
      "400/400 [==============================] - 580s 1s/step - loss: 0.0401 - acc: 0.9864 - val_loss: 0.5517 - val_acc: 0.8548\n",
      "Epoch 28/30\n",
      "400/400 [==============================] - 657s 2s/step - loss: 0.0361 - acc: 0.9883 - val_loss: 0.5886 - val_acc: 0.8514\n",
      "Epoch 29/30\n",
      "400/400 [==============================] - 640s 2s/step - loss: 0.0314 - acc: 0.9900 - val_loss: 0.5811 - val_acc: 0.8580\n",
      "Epoch 30/30\n",
      "400/400 [==============================] - 554s 1s/step - loss: 0.0286 - acc: 0.9909 - val_loss: 0.6494 - val_acc: 0.8534\n"
     ]
    }
   ],
   "source": [
    "history = model.fit_generator(\n",
    "      train_generator,\n",
    "      steps_per_epoch=400,\n",
    "      epochs=30,\n",
    "      validation_data=validation_generator,\n",
    "      validation_steps=100)"
   ]
  },
  {
   "cell_type": "code",
   "execution_count": 21,
   "metadata": {},
   "outputs": [],
   "source": [
    "model.save('cats_vs_dogs_basic_1.h5')"
   ]
  },
  {
   "cell_type": "code",
   "execution_count": 22,
   "metadata": {},
   "outputs": [
    {
     "data": {
      "image/png": "[encoded data removed]",
      "text/plain": [
       "<matplotlib.figure.Figure at 0x7efd8fcba668>"
      ]
     },
     "metadata": {},
     "output_type": "display_data"
    },
    {
     "data": {
      "image/png": "[encoded data removed]",
      "text/plain": [
       "<matplotlib.figure.Figure at 0x7efd8f422a58>"
      ]
     },
     "metadata": {},
     "output_type": "display_data"
    }
   ],
   "source": [
    "import matplotlib.pyplot as plt\n",
    "\n",
    "acc = history.history['acc']\n",
    "val_acc = history.history['val_acc']\n",
    "loss = history.history['loss']\n",
    "val_loss = history.history['val_loss']\n",
    "\n",
    "epochs = range(len(acc))\n",
    "\n",
    "plt.plot(epochs, acc, 'bo', label='Training acc')\n",
    "plt.plot(epochs, val_acc, 'b', label='Validation acc')\n",
    "plt.title('Training and validation accuracy')\n",
    "plt.legend()\n",
    "\n",
    "plt.figure()\n",
    "\n",
    "plt.plot(epochs, loss, 'bo', label='Training loss')\n",
    "plt.plot(epochs, val_loss, 'b', label='Validation loss')\n",
    "plt.title('Training and validation loss')\n",
    "plt.legend()\n",
    "\n",
    "plt.show()"
   ]
  },
  {
   "cell_type": "markdown",
   "metadata": {},
   "source": [
    "The classification accuracy on the verification set is about 85%."
   ]
  },
  {
   "cell_type": "markdown",
   "metadata": {},
   "source": [
    "### Using data enhancement techniques\n",
    "To overcome overfitting, we will also add a dropout layer in front of the full link layer classifier in our model:"
   ]
  },
  {
   "cell_type": "code",
   "execution_count": 25,
   "metadata": {},
   "outputs": [],
   "source": [
    "from keras import backend as K\n",
    "# to adjust for the backend (here tensorflow)\n",
    "img_width= 150\n",
    "img_height= 150\n",
    "\n",
    "if K.image_data_format() == 'channels_first':\n",
    "    input_shape = (3, img_width, img_height)\n",
    "else:\n",
    "    input_shape = (img_width, img_height, 3)"
   ]
  },
  {
   "cell_type": "code",
   "execution_count": 26,
   "metadata": {},
   "outputs": [
    {
     "data": {
      "text/plain": [
       "(150, 150, 3)"
      ]
     },
     "execution_count": 26,
     "metadata": {},
     "output_type": "execute_result"
    }
   ],
   "source": [
    "input_shape"
   ]
  },
  {
   "cell_type": "code",
   "execution_count": 27,
   "metadata": {},
   "outputs": [],
   "source": [
    "model = models.Sequential()\n",
    "\n",
    "# We use 32 features for our 2D array and set our array to be 3x3. \n",
    "# We will convert all of our images to be 150x150 into a 3D array (Since it is in color(RGB)).\n",
    "model.add(layers.Conv2D(32, (3, 3), activation='relu',input_shape= input_shape))\n",
    "\n",
    "# Now we use pooling to reduce the size of the feature map taken from the convolution stage. (Divide by 2)\n",
    "model.add(layers.MaxPooling2D((2, 2)))\n",
    "\n",
    "model.add(layers.Conv2D(64, (3, 3), activation='relu'))\n",
    "model.add(layers.MaxPooling2D((2, 2)))\n",
    "model.add(layers.Conv2D(128, (3, 3), activation='relu'))\n",
    "model.add(layers.MaxPooling2D((2, 2)))\n",
    "model.add(layers.Conv2D(128, (3, 3), activation='relu'))\n",
    "model.add(layers.MaxPooling2D((2, 2)))\n",
    "\n",
    "# Now we flatten our 2D pooled array into a vector.\n",
    "model.add(layers.Flatten())\n",
    "\n",
    "model.add(layers.Dropout(0.5))\n",
    "\n",
    "# Step 4 - Full connection\n",
    "model.add(layers.Dense(512, activation='relu'))\n",
    "model.add(layers.Dense(1, activation='sigmoid'))"
   ]
  },
  {
   "cell_type": "code",
   "execution_count": 28,
   "metadata": {},
   "outputs": [],
   "source": [
    "model.compile(loss='binary_crossentropy',\n",
    "              optimizer=optimizers.RMSprop(lr=1e-4),\n",
    "              metrics=['acc'])"
   ]
  },
  {
   "cell_type": "code",
   "execution_count": 29,
   "metadata": {},
   "outputs": [
    {
     "name": "stdout",
     "output_type": "stream",
     "text": [
      "Found 20000 images belonging to 2 classes.\n",
      "Found 5000 images belonging to 2 classes.\n"
     ]
    }
   ],
   "source": [
    "train_datagen = ImageDataGenerator(\n",
    "    rescale=1./255,\n",
    "    rotation_range=40,\n",
    "    width_shift_range=0.2,\n",
    "    height_shift_range=0.2,\n",
    "    shear_range=0.2,\n",
    "    zoom_range=0.2,\n",
    "    horizontal_flip=True,)\n",
    "\n",
    "# Note that the validation data should not be augmented!\n",
    "validation_datagen = ImageDataGenerator(rescale=1./255)\n",
    "\n",
    "train_generator = train_datagen.flow_from_directory(\n",
    "        train_dir,\n",
    "        target_size=(150, 150),\n",
    "        batch_size=70,\n",
    "        class_mode='binary')\n",
    "\n",
    "validation_generator = validation_datagen.flow_from_directory(\n",
    "        validation_dir,\n",
    "        target_size=(150, 150),\n",
    "        batch_size=70,\n",
    "        class_mode='binary')"
   ]
  },
  {
   "cell_type": "code",
   "execution_count": 34,
   "metadata": {},
   "outputs": [
    {
     "name": "stdout",
     "output_type": "stream",
     "text": [
      "Epoch 1/100\n",
      "400/400 [==============================] - 833s 2s/step - loss: 0.6622 - acc: 0.5918 - val_loss: 0.6015 - val_acc: 0.6695\n",
      "Epoch 2/100\n",
      "400/400 [==============================] - 781s 2s/step - loss: 0.6150 - acc: 0.6542 - val_loss: 0.5280 - val_acc: 0.7395\n",
      "Epoch 3/100\n",
      "400/400 [==============================] - 779s 2s/step - loss: 0.5820 - acc: 0.6897 - val_loss: 0.5087 - val_acc: 0.7573\n",
      "Epoch 4/100\n",
      "400/400 [==============================] - 780s 2s/step - loss: 0.5573 - acc: 0.7083 - val_loss: 0.5039 - val_acc: 0.7437\n",
      "Epoch 5/100\n",
      "400/400 [==============================] - 782s 2s/step - loss: 0.5441 - acc: 0.7211 - val_loss: 0.5009 - val_acc: 0.7524\n",
      "Epoch 6/100\n",
      "400/400 [==============================] - 795s 2s/step - loss: 0.5265 - acc: 0.7353 - val_loss: 0.4698 - val_acc: 0.7710\n",
      "Epoch 7/100\n",
      "400/400 [==============================] - 955s 2s/step - loss: 0.5167 - acc: 0.7407 - val_loss: 0.4620 - val_acc: 0.7793\n",
      "Epoch 8/100\n",
      "400/400 [==============================] - 1022s 3s/step - loss: 0.4980 - acc: 0.7574 - val_loss: 0.4232 - val_acc: 0.8016\n",
      "Epoch 9/100\n",
      "400/400 [==============================] - 980s 2s/step - loss: 0.4953 - acc: 0.7560 - val_loss: 0.4202 - val_acc: 0.8141\n",
      "Epoch 10/100\n",
      "400/400 [==============================] - 829s 2s/step - loss: 0.4828 - acc: 0.7680 - val_loss: 0.4192 - val_acc: 0.8114\n",
      "Epoch 11/100\n",
      "400/400 [==============================] - 833s 2s/step - loss: 0.4751 - acc: 0.7728 - val_loss: 0.3931 - val_acc: 0.8213\n",
      "Epoch 12/100\n",
      "400/400 [==============================] - 873s 2s/step - loss: 0.4699 - acc: 0.7731 - val_loss: 0.3845 - val_acc: 0.8270\n",
      "Epoch 13/100\n",
      "400/400 [==============================] - 883s 2s/step - loss: 0.4592 - acc: 0.7813 - val_loss: 0.4087 - val_acc: 0.8240\n",
      "Epoch 14/100\n",
      "400/400 [==============================] - 951s 2s/step - loss: 0.4543 - acc: 0.7848 - val_loss: 0.3716 - val_acc: 0.8335\n",
      "Epoch 15/100\n",
      "400/400 [==============================] - 887s 2s/step - loss: 0.4479 - acc: 0.7891 - val_loss: 0.4298 - val_acc: 0.8099\n",
      "Epoch 16/100\n",
      "400/400 [==============================] - 895s 2s/step - loss: 0.4403 - acc: 0.7945 - val_loss: 0.4364 - val_acc: 0.8093\n",
      "Epoch 17/100\n",
      "400/400 [==============================] - 950s 2s/step - loss: 0.4286 - acc: 0.8004 - val_loss: 0.3549 - val_acc: 0.8464\n",
      "Epoch 18/100\n",
      "400/400 [==============================] - 904s 2s/step - loss: 0.4291 - acc: 0.8024 - val_loss: 0.3549 - val_acc: 0.8463\n",
      "Epoch 19/100\n",
      "400/400 [==============================] - 914s 2s/step - loss: 0.4140 - acc: 0.8081 - val_loss: 0.3371 - val_acc: 0.8608\n",
      "Epoch 20/100\n",
      "400/400 [==============================] - 928s 2s/step - loss: 0.4170 - acc: 0.8085 - val_loss: 0.3691 - val_acc: 0.8369\n",
      "Epoch 21/100\n",
      "400/400 [==============================] - 909s 2s/step - loss: 0.4054 - acc: 0.8128 - val_loss: 0.3429 - val_acc: 0.8474\n",
      "Epoch 22/100\n",
      "400/400 [==============================] - 797s 2s/step - loss: 0.4035 - acc: 0.8154 - val_loss: 0.3397 - val_acc: 0.8532\n",
      "Epoch 23/100\n",
      "400/400 [==============================] - 835s 2s/step - loss: 0.3938 - acc: 0.8208 - val_loss: 0.3093 - val_acc: 0.8720\n",
      "Epoch 24/100\n",
      "400/400 [==============================] - 862s 2s/step - loss: 0.3879 - acc: 0.8249 - val_loss: 0.3249 - val_acc: 0.8611\n",
      "Epoch 25/100\n",
      "400/400 [==============================] - 803s 2s/step - loss: 0.3875 - acc: 0.8253 - val_loss: 0.3078 - val_acc: 0.8733\n",
      "Epoch 26/100\n",
      "400/400 [==============================] - 783s 2s/step - loss: 0.3765 - acc: 0.8304 - val_loss: 0.4045 - val_acc: 0.8256\n",
      "Epoch 27/100\n",
      "400/400 [==============================] - 782s 2s/step - loss: 0.3791 - acc: 0.8311 - val_loss: 0.5190 - val_acc: 0.7810\n",
      "Epoch 28/100\n",
      "400/400 [==============================] - 784s 2s/step - loss: 0.3747 - acc: 0.8329 - val_loss: 0.4503 - val_acc: 0.8139\n",
      "Epoch 29/100\n",
      "400/400 [==============================] - 791s 2s/step - loss: 0.3690 - acc: 0.8344 - val_loss: 0.4005 - val_acc: 0.8170\n",
      "Epoch 30/100\n",
      "400/400 [==============================] - 790s 2s/step - loss: 0.3611 - acc: 0.8382 - val_loss: 0.3442 - val_acc: 0.8586\n",
      "Epoch 31/100\n",
      "400/400 [==============================] - 791s 2s/step - loss: 0.3564 - acc: 0.8441 - val_loss: 0.3036 - val_acc: 0.8730\n",
      "Epoch 32/100\n",
      "400/400 [==============================] - 802s 2s/step - loss: 0.3501 - acc: 0.8445 - val_loss: 0.3460 - val_acc: 0.8592\n",
      "Epoch 33/100\n",
      "400/400 [==============================] - 792s 2s/step - loss: 0.3547 - acc: 0.8440 - val_loss: 0.2867 - val_acc: 0.8812\n",
      "Epoch 34/100\n",
      "400/400 [==============================] - 790s 2s/step - loss: 0.3462 - acc: 0.8483 - val_loss: 0.3290 - val_acc: 0.8803\n",
      "Epoch 35/100\n",
      "400/400 [==============================] - 782s 2s/step - loss: 0.3452 - acc: 0.8494 - val_loss: 0.2690 - val_acc: 0.8897\n",
      "Epoch 36/100\n",
      "400/400 [==============================] - 796s 2s/step - loss: 0.3405 - acc: 0.8499 - val_loss: 0.3106 - val_acc: 0.8720\n",
      "Epoch 37/100\n",
      "400/400 [==============================] - 791s 2s/step - loss: 0.3389 - acc: 0.8506 - val_loss: 0.2655 - val_acc: 0.8963\n",
      "Epoch 38/100\n",
      "400/400 [==============================] - 790s 2s/step - loss: 0.3362 - acc: 0.8538 - val_loss: 0.2877 - val_acc: 0.8855\n",
      "Epoch 39/100\n",
      "400/400 [==============================] - 785s 2s/step - loss: 0.3346 - acc: 0.8558 - val_loss: 0.2817 - val_acc: 0.8792\n",
      "Epoch 40/100\n",
      "400/400 [==============================] - 790s 2s/step - loss: 0.3359 - acc: 0.8533 - val_loss: 0.3196 - val_acc: 0.8713\n",
      "Epoch 41/100\n",
      "400/400 [==============================] - 791s 2s/step - loss: 0.3215 - acc: 0.8628 - val_loss: 0.2837 - val_acc: 0.8828\n",
      "Epoch 42/100\n",
      "400/400 [==============================] - 790s 2s/step - loss: 0.3245 - acc: 0.8600 - val_loss: 0.3066 - val_acc: 0.8685\n",
      "Epoch 43/100\n",
      "400/400 [==============================] - 795s 2s/step - loss: 0.3238 - acc: 0.8570 - val_loss: 0.2843 - val_acc: 0.8881\n",
      "Epoch 44/100\n",
      "400/400 [==============================] - 789s 2s/step - loss: 0.3207 - acc: 0.8614 - val_loss: 0.2460 - val_acc: 0.9007\n",
      "Epoch 45/100\n",
      "400/400 [==============================] - 792s 2s/step - loss: 0.3176 - acc: 0.8617 - val_loss: 0.2292 - val_acc: 0.9080\n",
      "Epoch 46/100\n",
      "400/400 [==============================] - 790s 2s/step - loss: 0.3169 - acc: 0.8636 - val_loss: 0.2658 - val_acc: 0.8941\n",
      "Epoch 47/100\n",
      "400/400 [==============================] - 788s 2s/step - loss: 0.3056 - acc: 0.8676 - val_loss: 0.2425 - val_acc: 0.9040\n",
      "Epoch 48/100\n",
      "400/400 [==============================] - 793s 2s/step - loss: 0.3075 - acc: 0.8676 - val_loss: 0.3230 - val_acc: 0.8802\n",
      "Epoch 49/100\n",
      "400/400 [==============================] - 787s 2s/step - loss: 0.3109 - acc: 0.8669 - val_loss: 0.2519 - val_acc: 0.8989\n",
      "Epoch 50/100\n",
      "400/400 [==============================] - 784s 2s/step - loss: 0.3073 - acc: 0.8683 - val_loss: 0.2490 - val_acc: 0.8945\n",
      "Epoch 51/100\n",
      "400/400 [==============================] - 785s 2s/step - loss: 0.3082 - acc: 0.8675 - val_loss: 0.2564 - val_acc: 0.8970\n",
      "Epoch 52/100\n",
      "400/400 [==============================] - 805s 2s/step - loss: 0.2993 - acc: 0.8730 - val_loss: 0.2210 - val_acc: 0.9132\n",
      "Epoch 53/100\n",
      "400/400 [==============================] - 808s 2s/step - loss: 0.3026 - acc: 0.8710 - val_loss: 0.3199 - val_acc: 0.8556\n",
      "Epoch 54/100\n",
      "400/400 [==============================] - 802s 2s/step - loss: 0.2995 - acc: 0.8745 - val_loss: 0.2989 - val_acc: 0.8733\n",
      "Epoch 55/100\n",
      "400/400 [==============================] - 807s 2s/step - loss: 0.3020 - acc: 0.8706 - val_loss: 0.2700 - val_acc: 0.8925\n",
      "Epoch 56/100\n",
      "400/400 [==============================] - 808s 2s/step - loss: 0.3022 - acc: 0.8721 - val_loss: 0.2101 - val_acc: 0.9190\n",
      "Epoch 57/100\n",
      "400/400 [==============================] - 804s 2s/step - loss: 0.2960 - acc: 0.8739 - val_loss: 0.2984 - val_acc: 0.8784\n",
      "Epoch 58/100\n",
      "400/400 [==============================] - 804s 2s/step - loss: 0.2919 - acc: 0.8765 - val_loss: 0.2719 - val_acc: 0.8973\n",
      "Epoch 59/100\n",
      "400/400 [==============================] - 806s 2s/step - loss: 0.2939 - acc: 0.8761 - val_loss: 0.2823 - val_acc: 0.8986\n",
      "Epoch 60/100\n",
      "400/400 [==============================] - 807s 2s/step - loss: 0.2883 - acc: 0.8796 - val_loss: 0.2299 - val_acc: 0.9112\n",
      "Epoch 61/100\n",
      "400/400 [==============================] - 805s 2s/step - loss: 0.2883 - acc: 0.8777 - val_loss: 0.2465 - val_acc: 0.9026\n"
     ]
    },
    {
     "name": "stdout",
     "output_type": "stream",
     "text": [
      "Epoch 62/100\n",
      "400/400 [==============================] - 806s 2s/step - loss: 0.2869 - acc: 0.8789 - val_loss: 0.2993 - val_acc: 0.8795\n",
      "Epoch 63/100\n",
      "400/400 [==============================] - 810s 2s/step - loss: 0.2881 - acc: 0.8774 - val_loss: 0.2201 - val_acc: 0.9182\n",
      "Epoch 64/100\n",
      "400/400 [==============================] - 809s 2s/step - loss: 0.2862 - acc: 0.8789 - val_loss: 0.2767 - val_acc: 0.8865\n",
      "Epoch 65/100\n",
      "400/400 [==============================] - 811s 2s/step - loss: 0.2899 - acc: 0.8771 - val_loss: 0.2393 - val_acc: 0.9006\n",
      "Epoch 66/100\n",
      "400/400 [==============================] - 806s 2s/step - loss: 0.2813 - acc: 0.8811 - val_loss: 0.2071 - val_acc: 0.9145\n",
      "Epoch 67/100\n",
      "400/400 [==============================] - 808s 2s/step - loss: 0.2853 - acc: 0.8806 - val_loss: 0.2500 - val_acc: 0.9011\n",
      "Epoch 68/100\n",
      "400/400 [==============================] - 808s 2s/step - loss: 0.2850 - acc: 0.8805 - val_loss: 0.2006 - val_acc: 0.9220\n",
      "Epoch 69/100\n",
      "400/400 [==============================] - 805s 2s/step - loss: 0.2792 - acc: 0.8816 - val_loss: 0.2110 - val_acc: 0.9161\n",
      "Epoch 70/100\n",
      "400/400 [==============================] - 802s 2s/step - loss: 0.2819 - acc: 0.8809 - val_loss: 0.2256 - val_acc: 0.9154\n",
      "Epoch 71/100\n",
      "400/400 [==============================] - 812s 2s/step - loss: 0.2807 - acc: 0.8790 - val_loss: 0.2481 - val_acc: 0.9057\n",
      "Epoch 72/100\n",
      "400/400 [==============================] - 811s 2s/step - loss: 0.2769 - acc: 0.8823 - val_loss: 0.2611 - val_acc: 0.9016\n",
      "Epoch 73/100\n",
      "400/400 [==============================] - 806s 2s/step - loss: 0.2836 - acc: 0.8801 - val_loss: 0.1894 - val_acc: 0.9257\n",
      "Epoch 74/100\n",
      "400/400 [==============================] - 801s 2s/step - loss: 0.2775 - acc: 0.8824 - val_loss: 0.2466 - val_acc: 0.8970\n",
      "Epoch 75/100\n",
      "400/400 [==============================] - 809s 2s/step - loss: 0.2797 - acc: 0.8814 - val_loss: 0.2119 - val_acc: 0.9184\n",
      "Epoch 76/100\n",
      "400/400 [==============================] - 811s 2s/step - loss: 0.2744 - acc: 0.8840 - val_loss: 0.3343 - val_acc: 0.8750\n",
      "Epoch 77/100\n",
      "400/400 [==============================] - 808s 2s/step - loss: 0.2816 - acc: 0.8808 - val_loss: 0.2128 - val_acc: 0.9233\n",
      "Epoch 78/100\n",
      "400/400 [==============================] - 803s 2s/step - loss: 0.2754 - acc: 0.8847 - val_loss: 0.2054 - val_acc: 0.9227\n",
      "Epoch 79/100\n",
      "400/400 [==============================] - 794s 2s/step - loss: 0.2776 - acc: 0.8830 - val_loss: 0.2224 - val_acc: 0.9020\n",
      "Epoch 80/100\n",
      "400/400 [==============================] - 787s 2s/step - loss: 0.2731 - acc: 0.8845 - val_loss: 0.2038 - val_acc: 0.9203\n",
      "Epoch 81/100\n",
      "400/400 [==============================] - 789s 2s/step - loss: 0.2700 - acc: 0.8855 - val_loss: 0.5080 - val_acc: 0.8142\n",
      "Epoch 82/100\n",
      "400/400 [==============================] - 788s 2s/step - loss: 0.2707 - acc: 0.8849 - val_loss: 0.2120 - val_acc: 0.9122\n",
      "Epoch 83/100\n",
      "400/400 [==============================] - 791s 2s/step - loss: 0.2672 - acc: 0.8866 - val_loss: 0.2270 - val_acc: 0.9115\n",
      "Epoch 84/100\n",
      "400/400 [==============================] - 783s 2s/step - loss: 0.2763 - acc: 0.8829 - val_loss: 0.1870 - val_acc: 0.9261\n",
      "Epoch 85/100\n",
      "400/400 [==============================] - 786s 2s/step - loss: 0.2694 - acc: 0.8854 - val_loss: 0.2735 - val_acc: 0.8851\n",
      "Epoch 86/100\n",
      "400/400 [==============================] - 790s 2s/step - loss: 0.2727 - acc: 0.8851 - val_loss: 0.2312 - val_acc: 0.9134\n",
      "Epoch 87/100\n",
      "400/400 [==============================] - 783s 2s/step - loss: 0.2683 - acc: 0.8875 - val_loss: 0.2355 - val_acc: 0.9119\n",
      "Epoch 88/100\n",
      "400/400 [==============================] - 789s 2s/step - loss: 0.2745 - acc: 0.8836 - val_loss: 0.2157 - val_acc: 0.9080\n",
      "Epoch 89/100\n",
      "400/400 [==============================] - 789s 2s/step - loss: 0.2730 - acc: 0.8844 - val_loss: 0.2317 - val_acc: 0.9070\n",
      "Epoch 90/100\n",
      "400/400 [==============================] - 782s 2s/step - loss: 0.2714 - acc: 0.8858 - val_loss: 0.2323 - val_acc: 0.9190\n",
      "Epoch 91/100\n",
      "400/400 [==============================] - 774s 2s/step - loss: 0.2713 - acc: 0.8835 - val_loss: 0.2031 - val_acc: 0.9231\n",
      "Epoch 92/100\n",
      "400/400 [==============================] - 777s 2s/step - loss: 0.2800 - acc: 0.8807 - val_loss: 0.2715 - val_acc: 0.9138\n",
      "Epoch 93/100\n",
      "400/400 [==============================] - 777s 2s/step - loss: 0.2841 - acc: 0.8787 - val_loss: 0.2520 - val_acc: 0.9016\n",
      "Epoch 94/100\n",
      "400/400 [==============================] - 775s 2s/step - loss: 0.2995 - acc: 0.8700 - val_loss: 0.3163 - val_acc: 0.8909\n",
      "Epoch 95/100\n",
      "400/400 [==============================] - 778s 2s/step - loss: 0.3169 - acc: 0.8651 - val_loss: 0.4929 - val_acc: 0.8329\n",
      "Epoch 96/100\n",
      "400/400 [==============================] - 776s 2s/step - loss: 0.4013 - acc: 0.8427 - val_loss: 0.1959 - val_acc: 0.9234\n",
      "Epoch 97/100\n",
      "400/400 [==============================] - 776s 2s/step - loss: 0.9408 - acc: 0.7634 - val_loss: 0.5162 - val_acc: 0.8648\n",
      "Epoch 98/100\n",
      "400/400 [==============================] - 778s 2s/step - loss: 2.7952 - acc: 0.7154 - val_loss: 2.1820 - val_acc: 0.8073\n",
      "Epoch 99/100\n",
      "400/400 [==============================] - 778s 2s/step - loss: 3.0329 - acc: 0.7483 - val_loss: 1.6834 - val_acc: 0.8509\n",
      "Epoch 100/100\n",
      "400/400 [==============================] - 774s 2s/step - loss: 3.2152 - acc: 0.7526 - val_loss: 1.7967 - val_acc: 0.8549\n",
      "Time taken:\n"
     ]
    },
    {
     "data": {
      "text/plain": [
       "(None, 81277)"
      ]
     },
     "execution_count": 34,
     "metadata": {},
     "output_type": "execute_result"
    }
   ],
   "source": [
    "import datetime\n",
    "\n",
    "starttime = datetime.datetime.now()\n",
    "\n",
    "history = model.fit_generator(\n",
    "      train_generator,\n",
    "      steps_per_epoch=400,\n",
    "      epochs=100,\n",
    "      validation_data=validation_generator,\n",
    "      validation_steps=100)\n",
    "\n",
    "endtime = datetime.datetime.now()\n",
    "\n",
    "interval=(endtime - starttime).seconds\n",
    "print(\"Time taken:\"), interval"
   ]
  },
  {
   "cell_type": "code",
   "execution_count": 35,
   "metadata": {},
   "outputs": [
    {
     "data": {
      "image/png": "[encoded data removed]",
      "text/plain": [
       "<matplotlib.figure.Figure at 0x7efd9c56fc18>"
      ]
     },
     "metadata": {},
     "output_type": "display_data"
    },
    {
     "data": {
      "image/png": "[encoded data removed]",
      "text/plain": [
       "<matplotlib.figure.Figure at 0x7efd9c594198>"
      ]
     },
     "metadata": {},
     "output_type": "display_data"
    }
   ],
   "source": [
    "acc = history.history['acc']\n",
    "val_acc = history.history['val_acc']\n",
    "loss = history.history['loss']\n",
    "val_loss = history.history['val_loss']\n",
    "\n",
    "epochs = range(len(acc))\n",
    "\n",
    "plt.plot(epochs, acc, 'bo', label='Training acc')\n",
    "plt.plot(epochs, val_acc, 'b', label='Validation acc')\n",
    "plt.title('Training and validation accuracy')\n",
    "plt.legend()\n",
    "\n",
    "plt.figure()\n",
    "\n",
    "plt.plot(epochs, loss, 'bo', label='Training loss')\n",
    "plt.plot(epochs, val_loss, 'b', label='Validation loss')\n",
    "plt.title('Training and validation loss')\n",
    "plt.legend()\n",
    "\n",
    "plt.show()"
   ]
  },
  {
   "cell_type": "code",
   "execution_count": 36,
   "metadata": {},
   "outputs": [],
   "source": [
    "model.save_weights('cats_vs_dogs_weights.h5')"
   ]
  },
  {
   "cell_type": "code",
   "execution_count": 37,
   "metadata": {},
   "outputs": [],
   "source": [
    "model.save('cats_vs_dogs_2.h5')"
   ]
  },
  {
   "cell_type": "code",
   "execution_count": 38,
   "metadata": {},
   "outputs": [
    {
     "name": "stdout",
     "output_type": "stream",
     "text": [
      "Found 12500 images belonging to 1 classes.\n",
      "test acc: 0.6139999991655349\n"
     ]
    }
   ],
   "source": [
    "test_generator = test_datagen.flow_from_directory(\n",
    "        test_dir,\n",
    "        target_size=(150, 150),\n",
    "        batch_size=20,\n",
    "        class_mode='binary')\n",
    "test_loss, test_acc = model.evaluate_generator(test_generator, steps=50)\n",
    "print('test acc:', test_acc)"
   ]
  },
  {
   "cell_type": "code",
   "execution_count": 50,
   "metadata": {},
   "outputs": [
    {
     "data": {
      "text/plain": [
       "'0.8.3'"
      ]
     },
     "execution_count": 50,
     "metadata": {},
     "output_type": "execute_result"
    }
   ],
   "source": [
    "import graphviz\n",
    "graphviz.__version__"
   ]
  },
  {
   "cell_type": "code",
   "execution_count": 51,
   "metadata": {},
   "outputs": [
    {
     "data": {
      "text/plain": [
       "'1.2.4'"
      ]
     },
     "execution_count": 51,
     "metadata": {},
     "output_type": "execute_result"
    }
   ],
   "source": [
    "import pydot\n",
    "pydot.__version__"
   ]
  },
  {
   "cell_type": "code",
   "execution_count": 69,
   "metadata": {},
   "outputs": [
    {
     "ename": "NameError",
     "evalue": "name 'plot' is not defined",
     "output_type": "error",
     "traceback": [
      "\u001b[0;31m---------------------------------------------------------------------------\u001b[0m",
      "\u001b[0;31mNameError\u001b[0m                                 Traceback (most recent call last)",
      "\u001b[0;32m<ipython-input-69-3b1780b10837>\u001b[0m in \u001b[0;36m<module>\u001b[0;34m()\u001b[0m\n\u001b[1;32m      1\u001b[0m \u001b[0;32mfrom\u001b[0m \u001b[0mIPython\u001b[0m\u001b[0;34m.\u001b[0m\u001b[0mdisplay\u001b[0m \u001b[0;32mimport\u001b[0m \u001b[0mSVG\u001b[0m\u001b[0;34m,\u001b[0m \u001b[0mdisplay\u001b[0m\u001b[0;34m\u001b[0m\u001b[0m\n\u001b[1;32m      2\u001b[0m \u001b[0;32mfrom\u001b[0m \u001b[0mkeras\u001b[0m\u001b[0;34m.\u001b[0m\u001b[0mutils\u001b[0m\u001b[0;34m.\u001b[0m\u001b[0mvis_utils\u001b[0m \u001b[0;32mimport\u001b[0m \u001b[0mmodel_to_dot\u001b[0m\u001b[0;34m\u001b[0m\u001b[0m\n\u001b[0;32m----> 3\u001b[0;31m \u001b[0mplot\u001b[0m\u001b[0;34m(\u001b[0m\u001b[0mmodel\u001b[0m\u001b[0;34m,\u001b[0m \u001b[0mto_file\u001b[0m\u001b[0;34m=\u001b[0m\u001b[0;34m'generator.png'\u001b[0m\u001b[0;34m,\u001b[0m \u001b[0mshow_shapes\u001b[0m\u001b[0;34m=\u001b[0m\u001b[0;34m'True'\u001b[0m\u001b[0;34m)\u001b[0m\u001b[0;34m\u001b[0m\u001b[0m\n\u001b[0m\u001b[1;32m      4\u001b[0m \u001b[0;34m\u001b[0m\u001b[0m\n\u001b[1;32m      5\u001b[0m \u001b[0mSVG\u001b[0m\u001b[0;34m(\u001b[0m\u001b[0mmodel_to_dot\u001b[0m\u001b[0;34m(\u001b[0m\u001b[0mmodel\u001b[0m\u001b[0;34m)\u001b[0m\u001b[0;34m.\u001b[0m\u001b[0mcreate\u001b[0m\u001b[0;34m(\u001b[0m\u001b[0mprog\u001b[0m\u001b[0;34m=\u001b[0m\u001b[0;34m'dot'\u001b[0m\u001b[0;34m,\u001b[0m \u001b[0mformat\u001b[0m\u001b[0;34m=\u001b[0m\u001b[0;34m'svg'\u001b[0m\u001b[0;34m)\u001b[0m\u001b[0;34m)\u001b[0m\u001b[0;34m\u001b[0m\u001b[0m\n",
      "\u001b[0;31mNameError\u001b[0m: name 'plot' is not defined"
     ]
    }
   ],
   "source": [
    "from IPython.display import SVG, display\n",
    "from keras.utils.vis_utils import model_to_dot\n",
    "\n",
    "\n",
    "SVG(model_to_dot(model).create(prog='dot', format='svg'))"
   ]
  },
  {
   "cell_type": "code",
   "execution_count": 70,
   "metadata": {},
   "outputs": [
    {
     "ename": "ImportError",
     "evalue": "Failed to import pydot. You must install pydot and graphviz for `pydotprint` to work.",
     "output_type": "error",
     "traceback": [
      "\u001b[0;31m---------------------------------------------------------------------------\u001b[0m",
      "\u001b[0;31mAttributeError\u001b[0m                            Traceback (most recent call last)",
      "\u001b[0;32m~/anaconda3/lib/python3.6/site-packages/keras/utils/vis_utils.py\u001b[0m in \u001b[0;36m_check_pydot\u001b[0;34m()\u001b[0m\n\u001b[1;32m     26\u001b[0m         \u001b[0;31m# to check the pydot/graphviz installation.\u001b[0m\u001b[0;34m\u001b[0m\u001b[0;34m\u001b[0m\u001b[0m\n\u001b[0;32m---> 27\u001b[0;31m         \u001b[0mpydot\u001b[0m\u001b[0;34m.\u001b[0m\u001b[0mDot\u001b[0m\u001b[0;34m.\u001b[0m\u001b[0mcreate\u001b[0m\u001b[0;34m(\u001b[0m\u001b[0mpydot\u001b[0m\u001b[0;34m.\u001b[0m\u001b[0mDot\u001b[0m\u001b[0;34m(\u001b[0m\u001b[0;34m)\u001b[0m\u001b[0;34m)\u001b[0m\u001b[0;34m\u001b[0m\u001b[0m\n\u001b[0m\u001b[1;32m     28\u001b[0m     \u001b[0;32mexcept\u001b[0m \u001b[0mException\u001b[0m\u001b[0;34m:\u001b[0m\u001b[0;34m\u001b[0m\u001b[0m\n",
      "\u001b[0;31mAttributeError\u001b[0m: 'NoneType' object has no attribute 'Dot'",
      "\nDuring handling of the above exception, another exception occurred:\n",
      "\u001b[0;31mImportError\u001b[0m                               Traceback (most recent call last)",
      "\u001b[0;32m<ipython-input-70-4f514fd9e07a>\u001b[0m in \u001b[0;36m<module>\u001b[0;34m()\u001b[0m\n\u001b[0;32m----> 1\u001b[0;31m \u001b[0mplot_model\u001b[0m\u001b[0;34m(\u001b[0m\u001b[0mmodel\u001b[0m\u001b[0;34m,\u001b[0m \u001b[0mto_file\u001b[0m\u001b[0;34m=\u001b[0m\u001b[0;34m'model.png'\u001b[0m\u001b[0;34m)\u001b[0m\u001b[0;34m\u001b[0m\u001b[0m\n\u001b[0m\u001b[1;32m      2\u001b[0m \u001b[0mSVG\u001b[0m\u001b[0;34m(\u001b[0m\u001b[0mmodel_to_dot\u001b[0m\u001b[0;34m(\u001b[0m\u001b[0mmodel\u001b[0m\u001b[0;34m)\u001b[0m\u001b[0;34m.\u001b[0m\u001b[0mcreate\u001b[0m\u001b[0;34m(\u001b[0m\u001b[0mprog\u001b[0m\u001b[0;34m=\u001b[0m\u001b[0;34m'dot'\u001b[0m\u001b[0;34m,\u001b[0m \u001b[0mformat\u001b[0m\u001b[0;34m=\u001b[0m\u001b[0;34m'svg'\u001b[0m\u001b[0;34m)\u001b[0m\u001b[0;34m)\u001b[0m\u001b[0;34m\u001b[0m\u001b[0m\n\u001b[1;32m      3\u001b[0m \u001b[0;34m\u001b[0m\u001b[0m\n",
      "\u001b[0;32m~/anaconda3/lib/python3.6/site-packages/keras/utils/vis_utils.py\u001b[0m in \u001b[0;36mplot_model\u001b[0;34m(model, to_file, show_shapes, show_layer_names, rankdir)\u001b[0m\n\u001b[1;32m    133\u001b[0m             \u001b[0;34m'LR'\u001b[0m \u001b[0mcreates\u001b[0m \u001b[0ma\u001b[0m \u001b[0mhorizontal\u001b[0m \u001b[0mplot\u001b[0m\u001b[0;34m.\u001b[0m\u001b[0;34m\u001b[0m\u001b[0m\n\u001b[1;32m    134\u001b[0m     \"\"\"\n\u001b[0;32m--> 135\u001b[0;31m     \u001b[0mdot\u001b[0m \u001b[0;34m=\u001b[0m \u001b[0mmodel_to_dot\u001b[0m\u001b[0;34m(\u001b[0m\u001b[0mmodel\u001b[0m\u001b[0;34m,\u001b[0m \u001b[0mshow_shapes\u001b[0m\u001b[0;34m,\u001b[0m \u001b[0mshow_layer_names\u001b[0m\u001b[0;34m,\u001b[0m \u001b[0mrankdir\u001b[0m\u001b[0;34m)\u001b[0m\u001b[0;34m\u001b[0m\u001b[0m\n\u001b[0m\u001b[1;32m    136\u001b[0m     \u001b[0m_\u001b[0m\u001b[0;34m,\u001b[0m \u001b[0mextension\u001b[0m \u001b[0;34m=\u001b[0m \u001b[0mos\u001b[0m\u001b[0;34m.\u001b[0m\u001b[0mpath\u001b[0m\u001b[0;34m.\u001b[0m\u001b[0msplitext\u001b[0m\u001b[0;34m(\u001b[0m\u001b[0mto_file\u001b[0m\u001b[0;34m)\u001b[0m\u001b[0;34m\u001b[0m\u001b[0m\n\u001b[1;32m    137\u001b[0m     \u001b[0;32mif\u001b[0m \u001b[0;32mnot\u001b[0m \u001b[0mextension\u001b[0m\u001b[0;34m:\u001b[0m\u001b[0;34m\u001b[0m\u001b[0m\n",
      "\u001b[0;32m~/anaconda3/lib/python3.6/site-packages/keras/utils/vis_utils.py\u001b[0m in \u001b[0;36mmodel_to_dot\u001b[0;34m(model, show_shapes, show_layer_names, rankdir)\u001b[0m\n\u001b[1;32m     54\u001b[0m     \u001b[0;32mfrom\u001b[0m \u001b[0;34m.\u001b[0m\u001b[0;34m.\u001b[0m\u001b[0mmodels\u001b[0m \u001b[0;32mimport\u001b[0m \u001b[0mSequential\u001b[0m\u001b[0;34m\u001b[0m\u001b[0m\n\u001b[1;32m     55\u001b[0m \u001b[0;34m\u001b[0m\u001b[0m\n\u001b[0;32m---> 56\u001b[0;31m     \u001b[0m_check_pydot\u001b[0m\u001b[0;34m(\u001b[0m\u001b[0;34m)\u001b[0m\u001b[0;34m\u001b[0m\u001b[0m\n\u001b[0m\u001b[1;32m     57\u001b[0m     \u001b[0mdot\u001b[0m \u001b[0;34m=\u001b[0m \u001b[0mpydot\u001b[0m\u001b[0;34m.\u001b[0m\u001b[0mDot\u001b[0m\u001b[0;34m(\u001b[0m\u001b[0;34m)\u001b[0m\u001b[0;34m\u001b[0m\u001b[0m\n\u001b[1;32m     58\u001b[0m     \u001b[0mdot\u001b[0m\u001b[0;34m.\u001b[0m\u001b[0mset\u001b[0m\u001b[0;34m(\u001b[0m\u001b[0;34m'rankdir'\u001b[0m\u001b[0;34m,\u001b[0m \u001b[0mrankdir\u001b[0m\u001b[0;34m)\u001b[0m\u001b[0;34m\u001b[0m\u001b[0m\n",
      "\u001b[0;32m~/anaconda3/lib/python3.6/site-packages/keras/utils/vis_utils.py\u001b[0m in \u001b[0;36m_check_pydot\u001b[0;34m()\u001b[0m\n\u001b[1;32m     29\u001b[0m         \u001b[0;31m# pydot raises a generic Exception here,\u001b[0m\u001b[0;34m\u001b[0m\u001b[0;34m\u001b[0m\u001b[0m\n\u001b[1;32m     30\u001b[0m         \u001b[0;31m# so no specific class can be caught.\u001b[0m\u001b[0;34m\u001b[0m\u001b[0;34m\u001b[0m\u001b[0m\n\u001b[0;32m---> 31\u001b[0;31m         raise ImportError('Failed to import pydot. You must install pydot'\n\u001b[0m\u001b[1;32m     32\u001b[0m                           ' and graphviz for `pydotprint` to work.')\n\u001b[1;32m     33\u001b[0m \u001b[0;34m\u001b[0m\u001b[0m\n",
      "\u001b[0;31mImportError\u001b[0m: Failed to import pydot. You must install pydot and graphviz for `pydotprint` to work."
     ]
    }
   ],
   "source": [
    "plot_model(model, to_file='model.png')\n",
    "SVG(model_to_dot(model).create(prog='dot', format='svg'))\n",
    "\n"
   ]
  },
  {
   "cell_type": "code",
   "execution_count": null,
   "metadata": {},
   "outputs": [],
   "source": []
  }
 ],
 "metadata": {
  "kernelspec": {
   "display_name": "Python 3",
   "language": "python",
   "name": "python3"
  },
  "language_info": {
   "codemirror_mode": {
    "name": "ipython",
    "version": 3
   },
   "file_extension": ".py",
   "mimetype": "text/x-python",
   "name": "python",
   "nbconvert_exporter": "python",
   "pygments_lexer": "ipython3",
   "version": "3.6.4"
  }
 },
 "nbformat": 4,
 "nbformat_minor": 2
}
