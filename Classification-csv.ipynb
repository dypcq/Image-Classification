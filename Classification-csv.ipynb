{
 "cells": [
  {
   "cell_type": "code",
   "execution_count": 1,
   "metadata": {},
   "outputs": [
    {
     "name": "stderr",
     "output_type": "stream",
     "text": [
      "/home/sara/anaconda3/lib/python3.6/site-packages/h5py/__init__.py:36: FutureWarning: Conversion of the second argument of issubdtype from `float` to `np.floating` is deprecated. In future, it will be treated as `np.float64 == np.dtype(float).type`.\n",
      "  from ._conv import register_converters as _register_converters\n",
      "Using TensorFlow backend.\n"
     ]
    },
    {
     "data": {
      "text/plain": [
       "'2.1.6'"
      ]
     },
     "execution_count": 1,
     "metadata": {},
     "output_type": "execute_result"
    }
   ],
   "source": [
    "import keras\n",
    "keras.__version__"
   ]
  },
  {
   "cell_type": "code",
   "execution_count": 2,
   "metadata": {},
   "outputs": [],
   "source": [
    "import pandas as pd\n",
    "import os\n",
    "import pickle\n",
    "import numpy as np\n",
    "\n",
    "def create_dir(parent_path):\n",
    "    '''\n",
    "            We have three classes and base on CSV information, if the image is belongs to melanoma for example,\n",
    "            it should be moved to melanoma directory\n",
    "    '''\n",
    "    if not os.path.exists(os.path.join(parent_path, 'melanoma')):\n",
    "        os.makedirs(os.path.join(parent_path, 'melanoma'))\n",
    "\n",
    "    if not os.path.exists(os.path.join(parent_path, 'seborrheic_keratosis')):\n",
    "        os.makedirs(os.path.join(parent_path, 'seborrheic_keratosis'))\n",
    "\n",
    "    if not os.path.exists(os.path.join(parent_path, 'nevus')):\n",
    "        os.makedirs(os.path.join(parent_path, 'nevus'))\n",
    "\n",
    "train_df = pd.read_csv('ISIC-2017_Training_Part3_GroundTruth.csv')\n",
    "validation_df = pd.read_csv('ISIC-2017_Validation_Part3_GroundTruth.csv')\n",
    "test_df = pd.read_csv('ISIC-2017_Test_v2_Part3_GroundTruth.csv')"
   ]
  },
  {
   "cell_type": "code",
   "execution_count": 3,
   "metadata": {},
   "outputs": [
    {
     "name": "stdout",
     "output_type": "stream",
     "text": [
      "       image_id  melanoma  seborrheic_keratosis\n",
      "0  ISIC_0000000       0.0                   0.0\n",
      "1  ISIC_0000001       0.0                   0.0\n",
      "2  ISIC_0000002       1.0                   0.0\n",
      "3  ISIC_0000003       0.0                   0.0\n",
      "4  ISIC_0000004       1.0                   0.0\n"
     ]
    }
   ],
   "source": [
    "print(train_df.head())"
   ]
  },
  {
   "cell_type": "code",
   "execution_count": 4,
   "metadata": {},
   "outputs": [
    {
     "name": "stdout",
     "output_type": "stream",
     "text": [
      "       image_id  melanoma  seborrheic_keratosis\n",
      "0  ISIC_0001769       0.0                   0.0\n",
      "1  ISIC_0001852       0.0                   0.0\n",
      "2  ISIC_0001871       0.0                   0.0\n",
      "3  ISIC_0003462       0.0                   0.0\n",
      "4  ISIC_0003539       0.0                   0.0\n"
     ]
    }
   ],
   "source": [
    "print(validation_df.head())"
   ]
  },
  {
   "cell_type": "code",
   "execution_count": 5,
   "metadata": {},
   "outputs": [
    {
     "name": "stdout",
     "output_type": "stream",
     "text": [
      "       image_id  melanoma  seborrheic_keratosis\n",
      "0  ISIC_0012086       0.0                   1.0\n",
      "1  ISIC_0012092       0.0                   0.0\n",
      "2  ISIC_0012095       0.0                   0.0\n",
      "3  ISIC_0012134       0.0                   1.0\n",
      "4  ISIC_0012136       0.0                   1.0\n"
     ]
    }
   ],
   "source": [
    "print(test_df.head())"
   ]
  },
  {
   "cell_type": "code",
   "execution_count": 6,
   "metadata": {},
   "outputs": [],
   "source": [
    "train_dir = 'ISIC-2017_Training_Data'\n",
    "validation_dir = 'ISIC-2017_Validation_Data'\n",
    "test_dir = 'ISIC-2017_Test_v2_Data'"
   ]
  },
  {
   "cell_type": "code",
   "execution_count": 7,
   "metadata": {},
   "outputs": [],
   "source": [
    "    '''\n",
    "            Create train, validation and test directories in data folder and then,\n",
    "            create melanoma, seborrheic_keratosis and nevus in each of them.\n",
    "    '''\n",
    "create_dir('train')\n",
    "create_dir('validation')\n",
    "create_dir('test')"
   ]
  },
  {
   "cell_type": "code",
   "execution_count": 8,
   "metadata": {},
   "outputs": [],
   "source": [
    "labels_train = np.zeros((len(train_df), 3))\n",
    "labels_validation = np.zeros((len(validation_df), 3))\n",
    "labels_test = np.zeros((len(test_df), 3))"
   ]
  },
  {
   "cell_type": "code",
   "execution_count": 9,
   "metadata": {},
   "outputs": [],
   "source": [
    "def move_image(type_, dataframe, directory):\n",
    "    '''\n",
    "            Move each image to its own folder\n",
    "    '''\n",
    "\n",
    "    for index, image in enumerate(dataframe['image_id']):\n",
    "        image_path = os.path.join(directory, image + '.jpg')\n",
    "\n",
    "        if dataframe.loc[dataframe['image_id'] == image]['melanoma'].all() == 1:\n",
    "            os.rename(image_path, os.path.join(\n",
    "                type_, 'melanoma', image + '.jpg'))\n",
    "            if(type_ == 'train'):\n",
    "                labels_train[index][0] = 1\n",
    "            elif(type_ == 'validation'):\n",
    "                labels_validation[index][0] = 1\n",
    "            else:\n",
    "                labels_test[index][0] = 1\n",
    "        elif dataframe.loc[dataframe['image_id'] == image]['seborrheic_keratosis'].all() == 1:\n",
    "            os.rename(image_path, os.path.join(\n",
    "                type_, 'seborrheic_keratosis', image + '.jpg'))\n",
    "            if(type_ == 'train'):\n",
    "                labels_train[index][1] = 1\n",
    "            elif(type_=='validation'):\n",
    "                labels_validation[index][1] = 1\n",
    "            else:\n",
    "                labels_test[index][1] = 1\n",
    "        else:\n",
    "            os.rename(image_path, './' + type_ + '/nevus/' + image + '.jpg')\n",
    "            if(type_ == 'train'):\n",
    "                labels_train[index][2] = 1\n",
    "            elif(type_=='validation'):\n",
    "                labels_validation[index][2] = 1\n",
    "            else:\n",
    "                labels_test[index][2] = 1"
   ]
  },
  {
   "cell_type": "code",
   "execution_count": 10,
   "metadata": {},
   "outputs": [],
   "source": [
    "move_image('train', train_df, train_dir)"
   ]
  },
  {
   "cell_type": "code",
   "execution_count": 11,
   "metadata": {},
   "outputs": [],
   "source": [
    "move_image('validation', validation_df, validation_dir)"
   ]
  },
  {
   "cell_type": "code",
   "execution_count": 12,
   "metadata": {},
   "outputs": [],
   "source": [
    "move_image('test', test_df, test_dir)"
   ]
  }
 ],
 "metadata": {
  "kernelspec": {
   "display_name": "Python 3",
   "language": "python",
   "name": "python3"
  },
  "language_info": {
   "codemirror_mode": {
    "name": "ipython",
    "version": 3
   },
   "file_extension": ".py",
   "mimetype": "text/x-python",
   "name": "python",
   "nbconvert_exporter": "python",
   "pygments_lexer": "ipython3",
   "version": "3.6.4"
  }
 },
 "nbformat": 4,
 "nbformat_minor": 2
}
